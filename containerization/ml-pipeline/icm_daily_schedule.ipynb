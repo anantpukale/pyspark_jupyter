{
 "cells": [
  {
   "cell_type": "code",
   "execution_count": 1,
   "id": "ecb047cc",
   "metadata": {},
   "outputs": [],
   "source": [
    "import os\n",
    "# os.environ['SCOPE'] = 'uat'\n",
    "# os.environ['CUSTOMER'] = 'regeneron'\n",
    "# os.environ['NameSpace'] = 'airflow'\n",
    "if os.environ['CUSTOMER'] == 'CSIO':\n",
    "    %run /home/jovyan/work/DAGS_Airflow/icm_config_csio.ipynb\n",
    "elif os.environ['CUSTOMER'] == 'globelife':\n",
    "    %run /home/jovyan/work/DAGS_Airflow/icm_config.ipynb\n",
    "elif os.environ['CUSTOMER'] == 'regeneron':\n",
    "    %run /home/jovyan/work/DAGS_Airflow/icm_config_regeneron.ipynb"
   ]
  },
  {
   "cell_type": "code",
   "execution_count": 2,
   "id": "f7c0d3da",
   "metadata": {},
   "outputs": [],
   "source": [
    "%run /home/jovyan/work/DAGS_Airflow/sparkConf.ipynb"
   ]
  },
  {
   "cell_type": "code",
   "execution_count": 3,
   "id": "f9d53b5c",
   "metadata": {},
   "outputs": [
    {
     "data": {
      "text/plain": [
       "'regeneron'"
      ]
     },
     "execution_count": 3,
     "metadata": {},
     "output_type": "execute_result"
    }
   ],
   "source": [
    "Activity = os.environ['CUSTOMER']\n",
    "Activity"
   ]
  },
  {
   "cell_type": "code",
   "execution_count": 4,
   "id": "569be9cb",
   "metadata": {},
   "outputs": [],
   "source": [
    "import os\n",
    "# Set executor python spark environments\n",
    "os.environ['PYSPARK_PYTHON'] = \"/miniconda/bin/python\"\n",
    "from utils.spark_util import KubeflowSparkUtil\n",
    "sparkConf = KubeflowSparkUtil.get_spark_conf(KubeflowSparkUtil, spark_conf, 'AiopsPreprocess-Airflow-'+Activity, 'k8s://https://kubernetes.default.svc.cluster.local:443')\n",
    "from pyspark.sql import SQLContext\n",
    "spark=  KubeflowSparkUtil(sparkConf).get_spark_session()\n",
    "sc = spark.sparkContext\n",
    "sqlContext = SQLContext(sc)"
   ]
  },
  {
   "cell_type": "code",
   "execution_count": 47,
   "id": "e930923d",
   "metadata": {},
   "outputs": [],
   "source": [
    "from utils.aiops_config import AiopsConfig\n",
    "from core.icm.icm_preprocessor import ICMPreprocessor\n",
    "from core.icm.incident_processor import IncidentProcessor\n",
    "from core.icm.IcmAutomation import IcmAutomation\n",
    "from core.icm.baseline_summary import BaselineSummary\n",
    "from core.icm.cost_baselining import ICMComputeBaseline, ICMStorageBaseline"
   ]
  },
  {
   "cell_type": "code",
   "execution_count": 48,
   "id": "38a28094",
   "metadata": {},
   "outputs": [],
   "source": [
    "customer = os.environ['CUSTOMER']\n",
    "aiopsconfig = AiopsConfig(customer,2, icm_configurations,icm_modelDBconfig)"
   ]
  },
  {
   "cell_type": "code",
   "execution_count": 50,
   "id": "a31e60ac",
   "metadata": {},
   "outputs": [],
   "source": [
    "preprocessor = ICMPreprocessor(aiopsconfig,spark)"
   ]
  },
  {
   "cell_type": "code",
   "execution_count": 52,
   "id": "8093b812",
   "metadata": {
    "scrolled": true
   },
   "outputs": [
    {
     "name": "stdout",
     "output_type": "stream",
     "text": [
      "compute pre process start\n",
      "storage pre process start\n",
      "end\n"
     ]
    }
   ],
   "source": [
    "compute_preprocessing_df, storage_preprocessing_df = preprocessor.preprocess()"
   ]
  },
  {
   "cell_type": "code",
   "execution_count": 53,
   "id": "e2b21c43",
   "metadata": {},
   "outputs": [
    {
     "data": {
      "text/plain": [
       "DataFrame[Incident Number: string, Urgency: string, Impact: string, Priority: string, Reported Source: string, Status: string, Product Categorization Tier 1: string, Operational Categorization Tier 1: string, Operational Categorization Tier 2: string, Detailed Description: string, Summary: string, Resolution: string, Assignee Support Group: string, Assignee Support Organization: string, CI Name: string, Reported Date Time (Company Offset): timestamp, Last Resolved Date Time (Company Offset): timestamp, Closed Date Time (Company Offset): timestamp, Last Modified Date Time (Company Offset): timestamp, Re-Opened Date Time (Company Offset): timestamp, customer_id: int]"
      ]
     },
     "execution_count": 53,
     "metadata": {},
     "output_type": "execute_result"
    }
   ],
   "source": [
    "# MAGIC %md ##Incident Data Processing\n",
    "\n",
    "# COMMAND ----------\n",
    "\n",
    "incident_processor = IncidentProcessor(aiopsconfig,spark)\n",
    "incident_processor.process_incidents()"
   ]
  },
  {
   "cell_type": "code",
   "execution_count": 54,
   "id": "7b88eb20",
   "metadata": {},
   "outputs": [],
   "source": [
    "# MAGIC %md ##Monitoring\n",
    "\n",
    "# COMMAND ----------\n",
    "\n",
    "preprocessor.analyze_data_quality(compute_preprocessing_df,storage_preprocessing_df)"
   ]
  },
  {
   "cell_type": "code",
   "execution_count": 55,
   "id": "8b270929",
   "metadata": {},
   "outputs": [
    {
     "name": "stdout",
     "output_type": "stream",
     "text": [
      "r2\n",
      "+------+----------+------------+------------+--------+-----+--------------+---------------+------------------+-------------+---------+---------+-------------------+-----------------------+---------------+------------+-----------+----------+----------+-----------------+--------------+-----------------+-----------------+-----------+\n",
      "|DEVICE|CHECK_TIME|BL_CPU_ALLOC|BL_MEM_ALLOC|LOCATION|TOWER|RECOMMENDATION|BL_CPU_MEM_COST|BL_CPU_MEM_SAVINGS|BASELINE_DATE|CPU_ALLOC|MEM_ALLOC|ACTUAL_CPU_MEM_COST|REALIZED_CPU_MEM_SAVING|TOTAL_INCIDENTS|action_taken|change_date|change_cpu|change_mem|Baseline_incident|compute_action|INCIDENT_COUNT_P1|INCIDENT_COUNT_P2|customer_id|\n",
      "+------+----------+------------+------------+--------+-----+--------------+---------------+------------------+-------------+---------+---------+-------------------+-----------------------+---------------+------------+-----------+----------+----------+-----------------+--------------+-----------------+-----------------+-----------+\n",
      "+------+----------+------------+------------+--------+-----+--------------+---------------+------------------+-------------+---------+---------+-------------------+-----------------------+---------------+------------+-----------+----------+----------+-----------------+--------------+-----------------+-----------------+-----------+\n",
      "\n",
      "write\n"
     ]
    }
   ],
   "source": [
    "# MAGIC %md ##Cost Baseline\n",
    "\n",
    "# COMMAND ----------\n",
    "\n",
    "compute_baseline = ICMComputeBaseline(aiopsconfig,spark)\n",
    "compute_baseline.execute_baseline()"
   ]
  },
  {
   "cell_type": "code",
   "execution_count": 56,
   "id": "88e4736c",
   "metadata": {},
   "outputs": [],
   "source": [
    "# COMMAND ----------\n",
    "\n",
    "storage_baseline = ICMStorageBaseline(aiopsconfig,spark)\n",
    "storage_baseline.execute_baseline()"
   ]
  },
  {
   "cell_type": "code",
   "execution_count": 57,
   "id": "fc92efcf",
   "metadata": {},
   "outputs": [],
   "source": [
    "# MAGIC %md ##Automation and Feedback\n",
    "\n",
    "# COMMAND ----------\n",
    "\n",
    "icm_automation = IcmAutomation(aiopsconfig,spark)\n",
    "icm_automation.automate_recommendation()\n",
    "icm_automation.process_feedback()"
   ]
  },
  {
   "cell_type": "code",
   "execution_count": null,
   "id": "fb25ba00",
   "metadata": {},
   "outputs": [],
   "source": [
    "# MAGIC %md ## Feedback summary and rejection reasons count\n",
    "\n",
    "# COMMAND ----------\n",
    "\n",
    "baseline_summary = BaselineSummary(aiopsconfig,spark)\n",
    "baseline_summary.feedback_summary()\n",
    "baseline_summary.get_rejection_reasons()"
   ]
  },
  {
   "cell_type": "code",
   "execution_count": 24,
   "id": "6f5aad6b",
   "metadata": {},
   "outputs": [],
   "source": [
    "spark.stop()"
   ]
  },
  {
   "cell_type": "code",
   "execution_count": null,
   "id": "cf477452",
   "metadata": {},
   "outputs": [],
   "source": []
  }
 ],
 "metadata": {
  "kernelspec": {
   "display_name": "Python 3",
   "language": "python",
   "name": "python3"
  },
  "language_info": {
   "codemirror_mode": {
    "name": "ipython",
    "version": 3
   },
   "file_extension": ".py",
   "mimetype": "text/x-python",
   "name": "python",
   "nbconvert_exporter": "python",
   "pygments_lexer": "ipython3",
   "version": "3.8.3"
  }
 },
 "nbformat": 4,
 "nbformat_minor": 5
}
