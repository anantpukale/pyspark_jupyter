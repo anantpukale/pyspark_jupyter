{
 "cells": [
  {
   "cell_type": "code",
   "execution_count": 2,
   "id": "17a365a2",
   "metadata": {},
   "outputs": [],
   "source": [
    "# import os\n",
    "# os.environ['SCOPE'] = 'uat'\n",
    "# os.environ['CUSTOMER'] = 'globelife'\n",
    "# os.environ['NameSpace'] = 'airflow'"
   ]
  },
  {
   "cell_type": "code",
   "execution_count": 3,
   "id": "d21c6545",
   "metadata": {},
   "outputs": [],
   "source": [
    "%run /home/jovyan/work/DAGS_Airflow/sparkConf.ipynb"
   ]
  },
  {
   "cell_type": "code",
   "execution_count": 4,
   "id": "14d95c61",
   "metadata": {},
   "outputs": [],
   "source": [
    "%run /home/jovyan/work/DAGS_Airflow/rca_config.ipynb"
   ]
  },
  {
   "cell_type": "code",
   "execution_count": 5,
   "id": "35e2691a",
   "metadata": {},
   "outputs": [
    {
     "name": "stdout",
     "output_type": "stream",
     "text": [
      "spark-notebook\n",
      "10.42.2.29\n"
     ]
    }
   ],
   "source": [
    "import os\n",
    "# Set executor python spark environments\n",
    "os.environ['PYSPARK_PYTHON'] = \"/miniconda/bin/python\"\n",
    "from utils.spark_util import KubeflowSparkUtil\n",
    "sparkConf = KubeflowSparkUtil.get_spark_conf(KubeflowSparkUtil, spark_conf, 'AiopsPreprocess-RCA-Model', 'k8s://https://kubernetes.default.svc.cluster.local:443')\n",
    "from pyspark.sql import SQLContext\n",
    "spark=  KubeflowSparkUtil(sparkConf).get_spark_session()\n",
    "sc = spark.sparkContext\n",
    "sqlContext = SQLContext(sc)"
   ]
  },
  {
   "cell_type": "code",
   "execution_count": 6,
   "id": "f88b5896",
   "metadata": {},
   "outputs": [],
   "source": [
    "from utils.aiops_config import AiopsConfig\n",
    "from core.rca.incident_rca_model_generation import RCAModelGenerator"
   ]
  },
  {
   "cell_type": "code",
   "execution_count": 7,
   "id": "0aaddc3d",
   "metadata": {},
   "outputs": [],
   "source": [
    "customer = 'globelife'\n",
    "aiopsconfig = AiopsConfig(customer, 2, rca_config=rca_configurations, rca_modelDBConfig=rca_modelDBconfig)"
   ]
  },
  {
   "cell_type": "code",
   "execution_count": 8,
   "id": "65bf50cb",
   "metadata": {},
   "outputs": [
    {
     "data": {
      "text/plain": [
       "{'globelife': {'query_incidents': \"Select dbo.Incident.Incident_Number as 'Incident Number', dbo.ITIL_Transaction.Urgency as 'Urgency', dbo.ITIL_Transaction.Impact as 'Impact', dbo.ITIL_Transaction.Priority as 'Priority', dbo.Incident.Reported_Source as 'Reported Source', dbo.ITIL_Transaction.Headline as 'Summary', dbo.ITIL_Transaction.Description as 'Detailed Description', Submitter.Remedy_Login_ID as 'Incident Management-Submitter.Person ID', Submitter.FULL_NAME as 'Submitter Name', Submitter.REGION as 'Submitter Site', Submitter.INTERNET_E_MAIL as 'Incident Management-Submitter.Internet E Mail', Submitter_Company.COMPANY as 'Company', dbo.ITIL_Transaction.Last_Modified_By as 'Last Modified By', dbo.Incident.Status as 'Status', dbo.Incident.Resolution as 'Resolution', dbo.ITIL_Transaction.Product_Categorization_Tier_1 as 'Product Categorization Tier 1', dbo.ITIL_Transaction.Categorization_Tier_1 as 'Operational Categorization Tier 1', dbo.ITIL_Transaction.Categorization_Tier_2 as 'Operational Categorization Tier 2', INCA_Supportgroup.SUPPORT_GROUP_NAME as 'Assignee Support Group', INCA_Supportgroup.SUPPORT_ORGANIZATION as 'Assignee Support Organization', INCA_Assignee.FULL_NAME as 'Assignee', dbo.Incident.GROUP_TRANSFERS as 'Group Transfers', Customer.Remedy_Login_ID as 'Incident Management-Customer.Person ID', Customer.Full_Name as 'Incident Management-Customer.Name', Customer.INTERNET_E_MAIL as 'Incident Management-Customer.Internet E Mail', Customer_Site.SITE as 'Incident Management-Customer.Site', Customer_Site.COUNTRY as 'Site Country', Customer.VIP as 'VIP', dbo.ITIL_Transaction.First_Call_Resolution as 'First Call Resolution', dbo.Incident.CI_Name as 'CI Name', dbo.Incident.CI as 'CI', dbo.Incident.Master_Ticket as 'Master Ticket', dbo.ITIL_Transaction.HelpDesk_Resolvable as 'Helpdesk Resolvable'\\t, dbo.Incident.Service_Type as 'Service Type', dbo.Incident_StatusHistory.RESOLVED_USER as 'Resolved User', dbo.Incident_StatusHistory.CLOSED_USER as 'Closed User', dbo.Incident.Reported_Date as 'Reported Date Time (Company Offset)', dbo.Incident.Last_Resolved_Date as 'Last Resolved Date Time (Company Offset)',  dbo.Incident.Closed_Date as 'Closed Date Time (Company Offset)', dbo.ITIL_Transaction.Last_Modified_Date as 'Last Modified Date Time (Company Offset)', dbo.Incident.Re_Opened_Date as 'Re-Opened Date Time (Company Offset)', INCA_Supportgroup.Business_Group as 'Business Group', INCA_Supportgroup.dept_group_hierarchy1 as 'Owner', Customer.UG_BUS_UNIT_SHORT as 'Business Unit', Customer.COST_CENTER_NAME as 'Org Unit', Customer.Cost_Center_Code as 'Division' FROM dbo.Incident_CustomerSpecific RIGHT OUTER JOIN dbo.Incident  with (nolock)  ON (dbo.Incident.Incident_ID=dbo.Incident_CustomerSpecific.Incident_ID and dbo.Incident.DataSourceID=dbo.Incident_CustomerSpecific.DataSourceID) LEFT OUTER JOIN dbo.ITIL_Transaction  with (nolock) ON (dbo.ITIL_Transaction.Transaction_ID=dbo.Incident.Transaction_ID and dbo.ITIL_Transaction.DataSourceID=dbo.Incident.DataSourceID) LEFT OUTER JOIN dbo.DataSource  with (nolock) ON (dbo.ITIL_Transaction.DataSourceID=dbo.DataSource.DataSourceID) LEFT OUTER JOIN dbo.SUPPORTGROUP  INCA_Supportgroup  with (nolock) ON (dbo.ITIL_Transaction.DataSourceID=INCA_Supportgroup.DataSourceID and dbo.ITIL_Transaction.ASSIGNED_GROUP_ID=INCA_Supportgroup.SUPPORT_GROUP_ID) LEFT OUTER JOIN dbo.PERSON  INCA_Assignee  with (nolock) ON (dbo.ITIL_Transaction.DataSourceID=INCA_Assignee.DataSourceID and dbo.ITIL_Transaction.Assignee_Login_ID=INCA_Assignee.PERSON_SK) LEFT OUTER JOIN dbo.PERSON  Customer  with (nolock) ON (dbo.ITIL_Transaction.DataSourceID=Customer.DataSourceID and dbo.ITIL_Transaction.PERSON_SK=Customer.PERSON_SK) LEFT OUTER JOIN dbo.COMPANY Customer_Company  with (nolock) ON (dbo.ITIL_Transaction.DataSourceID=Customer_Company.DataSourceID and dbo.ITIL_Transaction.COMPANY_SK=Customer_Company.COMPANY_SK) LEFT OUTER JOIN dbo.SITE  Customer_Site  with (nolock) ON ( Customer.DataSourceID=Customer_Site.DataSourceID and Customer.SITE_SK=Customer_Site.SITE_SK) LEFT OUTER JOIN dbo.PERSON  Submitter  with (nolock) ON (dbo.ITIL_Transaction.DataSourceID=Submitter.DataSourceID and dbo.ITIL_Transaction.Submitter_Person_SK=Submitter.PERSON_SK) LEFT OUTER JOIN dbo.COMPANY  Submitter_Company  with (nolock) ON (Submitter.DataSourceID=Submitter_Company.DataSourceID and Submitter.COMPANY_SK=Submitter_Company.COMPANY_SK) LEFT OUTER JOIN dbo.SITE  Submitter_site  with (nolock) ON (Submitter.DataSourceID=Submitter_site.DataSourceID and Submitter.SITE_SK=Submitter_site.SITE_SK) LEFT OUTER JOIN dbo.Incident_StatusHistory  with (nolock) ON (dbo.Incident.Transaction_ID=dbo.Incident_StatusHistory.Transaction_ID and dbo.Incident.DataSourceID=dbo.Incident_StatusHistory.DataSourceID) LEFT OUTER JOIN dbo.SUPPORTGROUP  INCO_SupportGroup  with (nolock) ON (dbo.ITIL_Transaction.DataSourceID=INCO_SupportGroup.DataSourceID and dbo.ITIL_Transaction.Owner_Group_ID=INCO_SupportGroup.SUPPORT_GROUP_ID) WHERE dbo.Incident.Status <> 'Cancelled' and dbo.Incident.Status  IN  ('Closed') and dbo.Incident.DataSourceID=90 AND Customer_Company.Company ='Torchmark'\",\n",
       "  'query_recommendation': 'select * from recommendation_mapping',\n",
       "  'db_server_name': '172.16.154.70',\n",
       "  'db_port': 1433,\n",
       "  'database_name': 'ODS',\n",
       "  'configs': {'DATA_SOURCE_ID': 90, 'DAYS': 7},\n",
       "  'query_change': \"select       Change.ChangeRequest_ID,       Change.SCHEDULED_END_DATE,       Change.SCHEDULED_START_DATE,       Change.Product_name,       Change.CI_Name,       Change.Business_Justification,       Change.DataSourceID,       Customer_Company.COMPANY       from change       left join dbo.ITIL_Transaction with       (nolock) ON (dbo.change.Transaction_ID=dbo.ITIL_Transaction.Transaction_ID and       change.DataSourceID=dbo.ITIL_Transaction.DataSourceID)       LEFT JOIN dbo.COMPANY Customer_Company  with (nolock) ON        (dbo.change.DataSourceID=Customer_Company.DataSourceID and dbo.ITIL_Transaction.COMPANY_SK=Customer_Company.COMPANY_SK)       where change.DataSourceID = 90 and Customer_Company.COMPANY = 'Torchmark'       and Change.Product_name not in ('CI_NOT_FOUND','')\",\n",
       "  'query_feedback': \"select number,dv_u_aiops_recommendation,dv_u_not_utilized_reasons,u_has_aiops_recommended_any_resolution,opened_at,sys_updated_on from ods_sn_uni.[dbo].incident where u_has_aiops_recommended_any_resolution = 1 and dv_company like '%torchmark%'and sys_updated_on>='{}'\",\n",
       "  'kafka_servers': '172.16.154.41:9092, 172.16.154.42:9092',\n",
       "  'kafka_topics': 'globelife.servicenow.incident.table',\n",
       "  'offset': 'latest',\n",
       "  'display_value': 'display_value',\n",
       "  'mapping_table_db': 'ODS_SN_UNI',\n",
       "  'ci_mapping_table_query': 'select sys_id,name from [cmdb_ci]',\n",
       "  'IsGenericModel': False,\n",
       "  'summary_col': 'Summary',\n",
       "  'category': 'Infrastructure',\n",
       "  'feature_selected': 'Detailed Description',\n",
       "  'new_feature_name': 'cleaned_data',\n",
       "  'category_column_name': 'Operational Categorization Tier 1',\n",
       "  'test_size': 0.2,\n",
       "  'stopwords_list': ['le', 'please', 'hi', 'thanks', 'regards', 'g'],\n",
       "  'abbriviation_dictioary': {'pc': 'personal computer',\n",
       "   'wfh': 'work from home',\n",
       "   'r/click': 'right click',\n",
       "   'ie': 'internet explorer',\n",
       "   'acct': 'account',\n",
       "   'db': 'database'},\n",
       "  'wireless_matches': {'label': ['wireless', 'access', 'point'],\n",
       "   'centroid_text': 'Wireless Access Point (Thin) 9-4-308-2, IP 10.12.8.240, from Controller TAR-5-3-223-5520-WLC-1, is 2'},\n",
       "  'backup_job_matches': {'label': ['backup'],\n",
       "   'centroid_text': 'mktmsisql02_mktmsisql02_db - mssql_database_logbackup_age - CRITICAL'},\n",
       "  'temp_probe_matches': {'label': ['temperature', 'probe'],\n",
       "   'centroid_text': \"'Temperature' probe 'Switch 1 - Outlet Temp Sensor on REN-26-1-123-3850-PROCESS-1' is in a 'Warning' state. The latest reading was : '42' (Degrees Celsius) Node: 'REN-26-1-123-3850-PROCESS-1' IP Address: '10.40.0.9'\"},\n",
       "  'fan_probe_matches': {'label': ['fan', 'probe', 'revolution'],\n",
       "   'centroid_text': \"'Fan' probe 'Fan Module-3 on TARFCSW02' is in a 'Critical' state. The latest reading was : '' (Revolutions Per Minute) Node: 'TARFCSW02' IP Address: '10.108.40.111\"},\n",
       "  'power_sensor_matches': {'label': ['power', 'sensor'],\n",
       "   'centroid_text': \"'Power Supply' probe 'Chassis 1 power-supply 2 power-input Sensor on TAR-5-3-223-6509-CORE-1' is in a 'Critical' state. The latest reading was : '220' (Volts) Node: 'TAR-5-3-223-6509-CORE-1' IP Address: '10.10.2.4\"},\n",
       "  'window_service_matches': {'label': ['service',\n",
       "    'winservice',\n",
       "    'metric processor',\n",
       "    'log processor',\n",
       "    'mule enterprise',\n",
       "    'logrhythm'],\n",
       "   'centroid_text': 'mkhsp2xdgp09 - win_service_wmi - CRITICAL - CrowdStrike Falcon Sensor Service (CSFalconService)'},\n",
       "  'wan_capacity_matches': {'label': ['wan', 'bandwidth', 'utilization'],\n",
       "   'centroid_text': 'WAN Bandwidth Utilization-link to PE ## - Critical for Interface: GigabitEthernet0/0 ##WAN-Link_P2P_REN-SUNY-3-311-3925-P2PWAN-1_G0/0_Spectrum_51.L1X on REN-85-1-330-3925-P2PWAN-1 has triggered Critical threshold value of 90%; Utilization of Receive is 94 %, Transmit is 1 %'},\n",
       "  'inc_alert_matches': {'label': ['alert', 'configured', 'incident'],\n",
       "   'centroid_text': 'alert configured generate incident regeneronservicenowcom exchange mailbox advanced critical triggered exchange related alert generated new solarwinds environment duplicate'},\n",
       "  'power_supply_matches': {'label': ['power', 'supply'],\n",
       "   'centroid_text': \"'Power Supply' probe 'PEM Vin P1/2 on REN-85-1-330-ASR1002X-AWS-1' is in a 'Critical' state. The latest reading was : '117' (Volts) Node: 'REN-85-1-330-ASR1002X-AWS-1' IP Address: '10.20.4.24\"},\n",
       "  'bgp_router_matches': {'label': ['bgp', 'neighbor'],\n",
       "   'centroid_text': \"'bgp neighbor triggered bgp neighbor triggered bgp neighbor triggered bgp neighbor triggered bgp neighbor triggered bgp neighbor triggered bgp neighbor triggered bgp neighbor triggered bgp neighbor triggered bgp neighbor triggered bgp neighbor triggered bgp neighbor triggered bgp neighbor triggered bgp neighbor triggered bgp neighbor triggered bgp neighbor triggered bgp neighbor triggered bgp neighbor triggered bgp neighbor triggered bgp neighbor triggered bgp neighbor triggered bgp neighbor triggered bgp neighbor triggered bgp neighbor triggered bgp neighbor triggered bgp neighbor triggered bgp neighbor triggered bgp neighbor triggered bgp neighbor triggered bgp neighbor triggered bgp neighbor triggered bgp neighbor triggered bgp neighbor triggered bgp neighbor triggered bgp neighbor triggered bgp neighbor triggered bgp neighbor triggered bgp neighbor triggered\"},\n",
       "  'appcomp_matches': {'label': ['application', 'down'],\n",
       "   'centroid_text': 'app.FirstUAOnTheWeb.com is Down http://app.FirstUAOnTheWeb.com'},\n",
       "  'fibrechannel_matches': {'label': ['fibre', 'channel', 'critical'],\n",
       "   'centroid_text': \"'Disk' probe 'DGC Fibre Channel Disk (naa.6006016017303a00d41e855952dce711) on tarprdesxi17' is in a 'Critical' state. The latest reading was : '5497558138880' (Bytes) Node: 'tarprdesxi17' IP Address: '10.10.200.94'\"},\n",
       "  'cpu_matches': {'label': ['cpu'],\n",
       "   'centroid_text': 'CPU Critical threshold (95)% exceeded. CPU load for the last 30 minutes is: 100 %, on Node: SOFTMAX, IP Address: 10.20.221.205'},\n",
       "  'mem_matches': {'label': ['ram', 'memory', 'mem'],\n",
       "   'centroid_text': \"RAM Warning threshold (95)% is reached or exceeded. Memory load for the last 30 minutes is: 95 % System Name: '' IP Address: '10.70.5.2\"},\n",
       "  'disk_matches': {'label': ['disk',\n",
       "    'drive',\n",
       "    'warning state',\n",
       "    'critical state'],\n",
       "   'centroid_text': 'Disk of MKTCDVSQL10-C:\\\\ Label:Boot Volume B295F74D is in Warning State'},\n",
       "  'device_threshold_matches': {'label': ['breached', 'threshold'],\n",
       "   'centroid_text': 'Tunnel1 att-unman att-unman att-unman att-unman att-unman att-unman att on USREPBBASNJ01R has breached Warning threshold value of 90 Receive Utilization is 0 % Transmit utilization is 91 %'},\n",
       "  'interface_err_disabled_matches': {'label': ['errdisabled',\n",
       "    'condition',\n",
       "    'interface'],\n",
       "   'centroid_text': 'REN-85-1-900-3850-ACCESS-1 has an err-disabled condition portLoopback on interface GigabitEthernet1/0/15. Device calls itself: , Device Model: Cisco WS-C3850-48P-S. View the Orion report Cisco Devices with Active ErrDisabled for all devices with active err-disabled conditions'},\n",
       "  'interface_matches': {'label': ['interface'],\n",
       "   'centroid_text': \"Interface 'SHO-1-3N-863-4510-ACCESS-1 - TenGigabitEthernet2/6 Printers' is 'Down '\"},\n",
       "  'server_matches': {'label': ['server', 'down'],\n",
       "   'centroid_text': 'servername down'},\n",
       "  'cas_matches': {'label': ['winuptime', 'server up'],\n",
       "   'centroid_text': 'servername down'},\n",
       "  'node_down_matches': {'label': ['node', 'ip', 'address'],\n",
       "   'centroid_text': \"Node, 'TARRGCLIMSDB01P' is 'Down' System Name: 'tarrgclimsdb01p' IP Address: '10.10.219.27\"},\n",
       "  'hardware_matches': {'label': ['hardware'],\n",
       "   'centroid_text': 'Hardware status on GMS-MDS-01 is Critical'},\n",
       "  'sql_matches': {'label': ['sql'],\n",
       "   'centroid_text': 'mktmprlawsql01_mktmprlawsql01_db - mssql_error_in_logs - CRITICAL'},\n",
       "  'restore_data': {'label': ['restore'],\n",
       "   'centroid_text': 'test restore server'},\n",
       "  'unknown_match': {'label': [],\n",
       "   'centroid_text': 'mktmpribdsql01_mktmpribdsql01_db - mssql_database_online1 - CRITICAL'},\n",
       "  'active_change_query': 'select i.`Incident Number`,c.ChangeRequest_ID as active_change_number,c.Business_Justification from df_incidents_reported_view i left join df_change_reported_view c on c.Product_name = i.CI_Name where cast(i.Reported_Date_Time as DATE) between cast(c.SCHEDULED_START_DATE as DATE) and cast(c.SCHEDULED_END_DATE as DATE)',\n",
       "  'recent_changes_query': 'select i.`Incident Number`,c.ChangeRequest_ID as recent_change_number,c.Business_Justification as Business_Justification_recent_change from df_change_view  i left outer join df_change_reported_view c on c.Product_name = i.CI_Name where DATEDIFF(i.Reported_Date_Time, c.SCHEDULED_END_DATE) > 0 and DATEDIFF(i.Reported_Date_Time, c.SCHEDULED_END_DATE) < 7',\n",
       "  'automate_feedback': True,\n",
       "  'priority_filter': '2 - High,3 - Medium',\n",
       "  'class_filter': 'disk_cap,server_issue',\n",
       "  'kafka_topic_name': 'aiops.recommendation'}}"
      ]
     },
     "execution_count": 8,
     "metadata": {},
     "output_type": "execute_result"
    }
   ],
   "source": [
    "rca_configurations\n"
   ]
  },
  {
   "cell_type": "code",
   "execution_count": 9,
   "id": "7f23a618",
   "metadata": {},
   "outputs": [
    {
     "name": "stdout",
     "output_type": "stream",
     "text": [
      "key:  service-principal-id\n",
      "secret:  b5c2e137-1f67-426c-871b-b67024e0d229\n",
      "key:  service-principal-secret\n",
      "secret:  ~d5MS_fL-N62CK666dQ~~QE1Ui323Mej-s\n",
      "key:  tenant-id\n",
      "secret:  8d894c2b-238f-490b-8dd1-d93898c5bf83\n",
      "Accuracy with Random Forest : 99.41%\n",
      "Confusion Matrix - Random Forest algorithm\n",
      "[[   0    0    0 ...    0    0    0]\n",
      " [   0    0    0 ...    0    0    0]\n",
      " [   0    0    1 ...    0    0    0]\n",
      " ...\n",
      " [   0    0    0 ...   13    0    0]\n",
      " [   0    0    0 ...    0 2262    0]\n",
      " [   0    0    0 ...    0    0  937]]\n"
     ]
    },
    {
     "name": "stderr",
     "output_type": "stream",
     "text": [
      "/opt/conda/lib/python3.8/site-packages/sklearn/metrics/_classification.py:1308: UndefinedMetricWarning: Precision and F-score are ill-defined and being set to 0.0 in labels with no predicted samples. Use `zero_division` parameter to control this behavior.\n",
      "  _warn_prf(average, modifier, msg_start, len(result))\n",
      "/opt/conda/lib/python3.8/site-packages/sklearn/metrics/_classification.py:1308: UndefinedMetricWarning: Precision and F-score are ill-defined and being set to 0.0 in labels with no predicted samples. Use `zero_division` parameter to control this behavior.\n",
      "  _warn_prf(average, modifier, msg_start, len(result))\n",
      "/opt/conda/lib/python3.8/site-packages/sklearn/metrics/_classification.py:1308: UndefinedMetricWarning: Precision and F-score are ill-defined and being set to 0.0 in labels with no predicted samples. Use `zero_division` parameter to control this behavior.\n",
      "  _warn_prf(average, modifier, msg_start, len(result))\n"
     ]
    },
    {
     "name": "stdout",
     "output_type": "stream",
     "text": [
      "                                                                                                                                                                                                                                                                                                                                                                                  precision    recall  f1-score   support\n",
      "\n",
      "                                                                                                                                                                                                                                                                                                                                                                  Kemba Davis  \"       0.00      0.00      0.00         1\n",
      "                                                                                                                                                                                                                                                                                                                I'm in training today.          Thank you!          Forest Lane\"       0.00      0.00      0.00         1\n",
      "                                                                                                                                                                                                                                                                                                                                                       IL Country: Region: AMER\"       0.50      1.00      0.67         1\n",
      "                                                                                                                                                                                                                                                                                                                                         KY Country: United States Region: AMER\"       1.00      1.00      1.00         1\n",
      "                                                                                                                                                                                                                                                                                                                                         NJ Country: United States Region: AMER\"       1.00      0.67      0.80         3\n",
      "                                                                                                                                                                                                                                                                                                                                                        be aware that any review       0.00      0.00      0.00         2\n",
      " however the restoration did not prove successful and now user is getting a \"\"back up malformed\"\" error  �Action taken by ServiceDesk:  advised user to re-download licensed state;  �Resolution: user able to pull up products after state download    FHL Sale Agent Number: 52215  ?What state is the application for? Missouri  ?What product is the application for? Cancer       0.00      0.00      0.00         1\n",
      "                                                                                                                                                                                                                                                                                                                         i sent them the ESIGN document and CC'd lnlapplications       0.00      0.00      0.00         1\n",
      "                                                                                                                                                she was not back at wotk until today to get on her email that she gave me in order to sign them...  3:02 PM Darla Waters 21238: it is for Kristal Arden: email: karden@massaccountyil.gov  3:02 PM Developer Abhinaw / Wesam: ok       0.00      0.00      0.00         1\n",
      "                                                                                                                                                                                                                                                                                                                                                    backup_job:backup_job_failed       1.00      1.00      1.00       891\n",
      "                                                                                                                                                                                                                                                                                                                                                 backup_job:server_backup_failed       0.90      0.60      0.72        15\n",
      "                                                                                                                                                                                                                                                                                                                                                         cpu_issue:warning_state       1.00      1.00      1.00         5\n",
      "                                                                                                                                                                                                                                                                                                                                                       disk_issue:critical_state       1.00      0.94      0.97        16\n",
      "                                                                                                                                                                                                                                                                                                                                                          disk_issue:master_disk       0.67      1.00      0.80        14\n",
      "                                                                                                                                                                                                                                                                                                                                                        disk_issue:ntx_disk_snmp       1.00      1.00      1.00         3\n",
      "                                                                                                                                                                                                                                                                                                                                                        disk_issue:warning_state       1.00      0.88      0.94        58\n",
      "                                                                                                                                                                                                                                                                                                                                                         esx_issue:esx_cpu_usage       1.00      1.00      1.00       493\n",
      "                                                                                                                                                                                                                                                                                                                                                          esx_issue:esx_io_write       1.00      1.00      1.00         1\n",
      "                                                                                                                                                                                                                                                                                                                                                         esx_issue:esx_mem_usage       1.00      1.00      1.00       559\n",
      "                                                                                                                                                                                                                                                                                                                                                         esx_issue:esx_net_usage       1.00      1.00      1.00       134\n",
      "                                                                                                                                                                                                                                                                                                                                              esx_issue:esx_runtime_issues_https       1.00      1.00      1.00       440\n",
      "                                                                                                                                                                                                                                                                                                                                             esx_issue:esx_runtime_issues_vmware       1.00      1.00      1.00       150\n",
      "                                                                                                                                                                                                                                                                                                                                                    esx_issue:esx_runtime_status       1.00      1.00      1.00      1258\n",
      "                                                                                                                                                                                                                                                                                                                                                         esx_issue:esx_vmfs_info       1.00      1.00      1.00       173\n",
      "                                                                                                                                                                                                                                                                                                                                                 https_web_status:critical_state       1.00      1.00      1.00        31\n",
      "                                                                                                                                                                                                                                                                                                                                                  https_web_status:warning_state       1.00      1.00      1.00         4\n",
      "                                                                                                                                                                                                                                                                                                                                                        memory_issue:RAM_Warning       1.00      1.00      1.00        65\n",
      "                                                                                                                                                                                                                                                                                                                                                     memory_issue:critical_state       1.00      0.75      0.86         4\n",
      "                                                                                                                                                                                                                                                                                                                                                            mssql_Issue:CPU_Busy       1.00      1.00      1.00       201\n",
      "                                                                                                                                                                                                                                                                                                                                                mssql_Issue:Long_Connection_Time       1.00      1.00      1.00       698\n",
      "                                                                                                                                                                                                                                                                                                                                                    mssql_Issue:cluster_failover       1.00      1.00      1.00       117\n",
      "                                                                                                                                                                                                                                                                                                                                                 mssql_Issue:database_backup_age       1.00      1.00      1.00       411\n",
      "                                                                                                                                                                                                                                                                                                                                                             mssql_Issue:db_down       0.98      1.00      0.99      1308\n",
      "                                                                                                                                                                                                                                                                                                                                                       mssql_Issue:error_in_logs       1.00      1.00      1.00      1641\n",
      "                                                                                                                                                                                                                                                                                                                                                     mssql_Issue:locks_deadlocks       1.00      1.00      1.00       215\n",
      "                                                                                                                                                                                                                                                                                                                                           mssql_Issue:mssql_database_free_space       1.00      1.00      1.00       630\n",
      "                                                                                                                                                                                                                                                                                                                                            mssql_Issue:mssql_database_logbackup       1.00      1.00      1.00       960\n",
      "                                                                                                                                                                                                                                                                                                                                               mssql_Issue:mssql_database_online       1.00      1.00      1.00       370\n",
      "                                                                                                                                                                                                                                                                                                                                                   mssql_Issue:mssql_failed_jobs       1.00      1.00      1.00       103\n",
      "                                                                                                                                                                                                                                                                                                                                       network_issue:High_Packet_Loss_Monitoring       1.00      1.00      1.00       289\n",
      "                                                                                                                                                                                                                                                                                                                                                         network_issue:icmp_ping       1.00      1.00      1.00        69\n",
      "                                                                                                                                                                                                                                                                                                                                                           nix_issue:nix_cpu_ssh       1.00      1.00      1.00         9\n",
      "                                                                                                                                                                                                                                                                                                                                                      nix_issue:nix_disk_all_ssh       1.00      1.00      1.00        14\n",
      "                                                                                                                                                                                                                                                                                                                                                        nix_issue:nix_uptime_ssh       1.00      1.00      1.00        35\n",
      "                                                                                                                                                                                                                                                                                                                                             other_issues:Eapp_application_issue       0.89      0.98      0.94       397\n",
      "                                                                                                                                                                                                                                                                                                                                                  other_issues:Remote_VPN_Issues       0.82      0.83      0.83        90\n",
      "                                                                                                                                                                                                                                                                                                                                                        other_issues:Server_Down       1.00      0.88      0.94       238\n",
      "                                                                                                                                                                                                                                                                                                                                                          other_issues:VDI_issue       0.86      0.53      0.65        34\n",
      "                                                                                                                                                                                                                                                                                                                                     other_issues:account_locked_password_issues       0.91      0.86      0.89        95\n",
      "                                                                                                                                                                                                                                                                                                                                                     other_issues:download_issue       1.00      0.44      0.62         9\n",
      "                                                                                                                                                                                                                                                                                                                                                    other_issues:http_web_status       1.00      1.00      1.00        35\n",
      "                                                                                                                                                                                                                                                                                                                                                 other_issues:ora_process_issues       1.00      1.00      1.00        19\n",
      "                                                                                                                                                                                                                                                                                                                                                   other_issues:slave_nagios_log       1.00      1.00      1.00        12\n",
      "                                                                                                                                                                                                                                                                                                                                                    other_issues:web_status_curl       1.00      1.00      1.00        40\n",
      "                                                                                                                                                                                                                                                                                                                                                       win_wmi_issue:win_cpu_wmi       1.00      1.00      1.00      1485\n",
      "                                                                                                                                                                                                                                                                                                                                                  win_wmi_issue:win_disk_all_wmi       1.00      1.00      1.00      1130\n",
      "                                                                                                                                                                                                                                                                                                                                                    win_wmi_issue:win_diskio_wmi       1.00      1.00      1.00       559\n",
      "                                                                                                                                                                                                                                                                                                                                             win_wmi_issue:win_eventlog_1101_wmi       1.00      1.00      1.00       200\n",
      "                                                                                                                                                                                                                                                                                                                                                       win_wmi_issue:win_mem_wmi       1.00      1.00      1.00       465\n",
      "                                                                                                                                                                                                                                                                                                                                                   win_wmi_issue:win_process_wmi       1.00      1.00      1.00        13\n",
      "                                                                                                                                                                                                                                                                                                                                                   win_wmi_issue:win_service_wmi       1.00      1.00      1.00      2262\n",
      "                                                                                                                                                                                                                                                                                                                                                    win_wmi_issue:win_uptime_wmi       1.00      1.00      1.00       937\n",
      "\n",
      "                                                                                                                                                                                                                                                                                                                                                                        accuracy                           0.99     19416\n",
      "                                                                                                                                                                                                                                                                                                                                                                       macro avg       0.88      0.86      0.86     19416\n",
      "                                                                                                                                                                                                                                                                                                                                                                    weighted avg       0.99      0.99      0.99     19416\n",
      "\n"
     ]
    },
    {
     "name": "stdout",
     "output_type": "stream",
     "text": [
      "kubeflow/FileStore/models/globelife/text_classification_model/rf_text_clf_model_v7.pkl\n",
      "key:  service-principal-id\n",
      "secret:  b5c2e137-1f67-426c-871b-b67024e0d229\n",
      "key:  service-principal-secret\n",
      "secret:  ~d5MS_fL-N62CK666dQ~~QE1Ui323Mej-s\n",
      "key:  tenant-id\n",
      "secret:  8d894c2b-238f-490b-8dd1-d93898c5bf83\n",
      "key:  service-principal-id\n",
      "secret:  b5c2e137-1f67-426c-871b-b67024e0d229\n",
      "key:  service-principal-secret\n",
      "secret:  ~d5MS_fL-N62CK666dQ~~QE1Ui323Mej-s\n",
      "key:  tenant-id\n",
      "secret:  8d894c2b-238f-490b-8dd1-d93898c5bf83\n",
      "key:  service-principal-id\n",
      "secret:  b5c2e137-1f67-426c-871b-b67024e0d229\n",
      "key:  service-principal-secret\n",
      "secret:  ~d5MS_fL-N62CK666dQ~~QE1Ui323Mej-s\n",
      "key:  tenant-id\n",
      "secret:  8d894c2b-238f-490b-8dd1-d93898c5bf83\n",
      "rf_text_clf_model_v model Successfully Persisted\n",
      "key:  service-principal-id\n",
      "secret:  b5c2e137-1f67-426c-871b-b67024e0d229\n",
      "key:  service-principal-secret\n",
      "secret:  ~d5MS_fL-N62CK666dQ~~QE1Ui323Mej-s\n",
      "key:  tenant-id\n",
      "secret:  8d894c2b-238f-490b-8dd1-d93898c5bf83\n",
      "key:  service-principal-id\n",
      "secret:  b5c2e137-1f67-426c-871b-b67024e0d229\n",
      "key:  service-principal-secret\n",
      "secret:  ~d5MS_fL-N62CK666dQ~~QE1Ui323Mej-s\n",
      "key:  tenant-id\n",
      "secret:  8d894c2b-238f-490b-8dd1-d93898c5bf83\n",
      "key:  service-principal-id\n",
      "secret:  b5c2e137-1f67-426c-871b-b67024e0d229\n",
      "key:  service-principal-secret\n",
      "secret:  ~d5MS_fL-N62CK666dQ~~QE1Ui323Mej-s\n",
      "key:  tenant-id\n",
      "secret:  8d894c2b-238f-490b-8dd1-d93898c5bf83\n"
     ]
    }
   ],
   "source": [
    "model_generator = RCAModelGenerator(aiopsconfig, spark)\n",
    "model_generator.generate_model()"
   ]
  },
  {
   "cell_type": "code",
   "execution_count": 7,
   "id": "574cbfb2",
   "metadata": {},
   "outputs": [],
   "source": [
    "spark.stop()"
   ]
  },
  {
   "cell_type": "code",
   "execution_count": 1,
   "id": "84fdc744",
   "metadata": {},
   "outputs": [
    {
     "ename": "NameError",
     "evalue": "name 'spark' is not defined",
     "output_type": "error",
     "traceback": [
      "\u001b[0;31m---------------------------------------------------------------------------\u001b[0m",
      "\u001b[0;31mNameError\u001b[0m                                 Traceback (most recent call last)",
      "\u001b[0;32m<ipython-input-1-84901cd22f32>\u001b[0m in \u001b[0;36m<module>\u001b[0;34m\u001b[0m\n\u001b[0;32m----> 1\u001b[0;31m \u001b[0mspark\u001b[0m\u001b[0;34m\u001b[0m\u001b[0;34m\u001b[0m\u001b[0m\n\u001b[0m",
      "\u001b[0;31mNameError\u001b[0m: name 'spark' is not defined"
     ]
    }
   ],
   "source": [
    "spark"
   ]
  },
  {
   "cell_type": "code",
   "execution_count": null,
   "id": "86ecec14",
   "metadata": {},
   "outputs": [],
   "source": []
  }
 ],
 "metadata": {
  "kernelspec": {
   "display_name": "Python 3",
   "language": "python",
   "name": "python3"
  },
  "language_info": {
   "codemirror_mode": {
    "name": "ipython",
    "version": 3
   },
   "file_extension": ".py",
   "mimetype": "text/x-python",
   "name": "python",
   "nbconvert_exporter": "python",
   "pygments_lexer": "ipython3",
   "version": "3.8.3"
  }
 },
 "nbformat": 4,
 "nbformat_minor": 5
}
