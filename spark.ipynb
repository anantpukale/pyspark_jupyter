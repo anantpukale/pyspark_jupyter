{
 "cells": [
  {
   "cell_type": "code",
   "execution_count": 2,
   "id": "extensive-agreement",
   "metadata": {},
   "outputs": [],
   "source": [
    "NAMESPACE = \"spark1\"\n",
    "DRIVER_HOST = \"spark-notebook\"\n",
    "DRIVER_PORT = \"29413\"\n",
    "DRIVER_SERVICE_ACCOUNT= \"spark-sa\""
   ]
  },
  {
   "cell_type": "code",
   "execution_count": 3,
   "id": "south-travel",
   "metadata": {},
   "outputs": [
    {
     "data": {
      "text/plain": [
       "<pyspark.conf.SparkConf at 0x7f7b3c310eb0>"
      ]
     },
     "execution_count": 3,
     "metadata": {},
     "output_type": "execute_result"
    }
   ],
   "source": [
    "import pyspark\n",
    "from pyspark import SparkContext, SparkConf\n",
    "from pyspark.sql import SparkSession\n",
    "\n",
    "conf1 = SparkConf().setAppName('sparktest').setMaster('k8s://https://kubernetes.default.svc.cluster.local:443')\n",
    "conf1.set(\"spark.kubernetes.namespace\", NAMESPACE)\n",
    "conf1.set(\"spark.kubernetes.authenticate.caCertFile\",\"/var/run/secrets/kubernetes.io/serviceaccount/ca.crt\")\n",
    "conf1.set(\"spark.kubernetes.authenticate.oauthTokenFile\",\"/var/run/secrets/kubernetes.io/serviceaccount/token\")\n",
    "conf1.set(\"spark.kubernetes.authenticate.driver.serviceAccountName\",DRIVER_SERVICE_ACCOUNT)\n",
    "conf1.set(\"spark.executor.instances\",\"2\")\n",
    "conf1.set(\"spark.kubernetes.container.image\",\"docker.io/anantpukale/spark:3.1.1-with-pyspark-hadoop3.2-test2\")\n",
    "conf1.set(\"spark.driver.host\", DRIVER_HOST+\".\"+NAMESPACE+\".svc.cluster.local\")\n",
    "conf1.set(\"spark.driver.port\",DRIVER_PORT)"
   ]
  },
  {
   "cell_type": "code",
   "execution_count": 4,
   "id": "aquatic-fancy",
   "metadata": {},
   "outputs": [],
   "source": [
    "sc = SparkContext(conf=conf1)"
   ]
  },
  {
   "cell_type": "code",
   "execution_count": 5,
   "id": "beautiful-terminology",
   "metadata": {},
   "outputs": [],
   "source": [
    "spark = SparkSession(sc) "
   ]
  },
  {
   "cell_type": "code",
   "execution_count": 7,
   "id": "mounted-questionnaire",
   "metadata": {},
   "outputs": [
    {
     "data": {
      "text/plain": [
       "<pyspark.sql.readwriter.DataFrameReader at 0x7f7b07447790>"
      ]
     },
     "execution_count": 7,
     "metadata": {},
     "output_type": "execute_result"
    }
   ],
   "source": []
  },
  {
   "cell_type": "code",
   "execution_count": null,
   "id": "bizarre-cooperative",
   "metadata": {},
   "outputs": [],
   "source": [
    "data = [1, 2, 3, 4, 5]\n",
    "distData = sc.parallelize(data)\n",
    "distData.sum()"
   ]
  },
  {
   "cell_type": "code",
   "execution_count": 1,
   "id": "right-disclaimer",
   "metadata": {},
   "outputs": [
    {
     "ename": "NameError",
     "evalue": "name 'sc' is not defined",
     "output_type": "error",
     "traceback": [
      "\u001b[0;31m---------------------------------------------------------------------------\u001b[0m",
      "\u001b[0;31mNameError\u001b[0m                                 Traceback (most recent call last)",
      "\u001b[0;32m<ipython-input-1-8d3513b7698b>\u001b[0m in \u001b[0;36m<module>\u001b[0;34m\u001b[0m\n\u001b[0;32m----> 1\u001b[0;31m \u001b[0msc\u001b[0m\u001b[0;34m.\u001b[0m\u001b[0mstop\u001b[0m\u001b[0;34m(\u001b[0m\u001b[0;34m)\u001b[0m\u001b[0;34m\u001b[0m\u001b[0;34m\u001b[0m\u001b[0m\n\u001b[0m",
      "\u001b[0;31mNameError\u001b[0m: name 'sc' is not defined"
     ]
    }
   ],
   "source": [
    "sc.stop()"
   ]
  },
  {
   "cell_type": "code",
   "execution_count": null,
   "id": "planned-bradley",
   "metadata": {},
   "outputs": [],
   "source": []
  }
 ],
 "metadata": {
  "kernelspec": {
   "display_name": "Python 3",
   "language": "python",
   "name": "python3"
  },
  "language_info": {
   "codemirror_mode": {
    "name": "ipython",
    "version": 3
   },
   "file_extension": ".py",
   "mimetype": "text/x-python",
   "name": "python",
   "nbconvert_exporter": "python",
   "pygments_lexer": "ipython3",
   "version": "3.8.8"
  }
 },
 "nbformat": 4,
 "nbformat_minor": 5
}
