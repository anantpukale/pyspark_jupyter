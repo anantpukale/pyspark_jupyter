{
 "cells": [
  {
   "cell_type": "code",
   "execution_count": 27,
   "id": "f067f1ad",
   "metadata": {},
   "outputs": [],
   "source": [
    "# import os\n",
    "# os.environ['SCOPE'] = 'uat'\n",
    "# os.environ['CUSTOMER'] = 'globelife'\n",
    "# os.environ['NameSpace'] = 'airflow'"
   ]
  },
  {
   "cell_type": "code",
   "execution_count": 28,
   "id": "ec61aec8",
   "metadata": {},
   "outputs": [],
   "source": [
    "%run /home/jovyan/work/DAGS_Airflow/sparkConf.ipynb"
   ]
  },
  {
   "cell_type": "code",
   "execution_count": 19,
   "id": "b2f7d172",
   "metadata": {},
   "outputs": [],
   "source": [
    "%run /home/jovyan/work/DAGS_Airflow/rca_config.ipynb"
   ]
  },
  {
   "cell_type": "code",
   "execution_count": null,
   "id": "40177acd",
   "metadata": {},
   "outputs": [],
   "source": [
    "act = os.environ['CUSTOMER']"
   ]
  },
  {
   "cell_type": "code",
   "execution_count": 20,
   "id": "09ea31ec",
   "metadata": {},
   "outputs": [
    {
     "name": "stdout",
     "output_type": "stream",
     "text": [
      "spark-notebook\n",
      "10.42.6.47\n"
     ]
    }
   ],
   "source": [
    "import os\n",
    "# Set executor python spark environments\n",
    "os.environ['PYSPARK_PYTHON'] = \"/miniconda/bin/python\"\n",
    "from utils.spark_util import KubeflowSparkUtil\n",
    "sparkConf = KubeflowSparkUtil.get_spark_conf(KubeflowSparkUtil, spark_conf, 'AiopsPreprocess-RCA_DailySch-AIRFLOW-'+act, 'k8s://https://kubernetes.default.svc.cluster.local:443')\n",
    "from pyspark.sql import SQLContext\n",
    "spark=  KubeflowSparkUtil(sparkConf).get_spark_session()\n",
    "sc = spark.sparkContext\n",
    "sqlContext = SQLContext(sc)"
   ]
  },
  {
   "cell_type": "code",
   "execution_count": 21,
   "id": "7eb362c1",
   "metadata": {},
   "outputs": [],
   "source": [
    "from utils.customer import FetchCustomer\n",
    "from utils.aiops_config import AiopsConfig\n",
    "from core.rca.rca_insight_generator import RCAInsightGenerator\n",
    "from core.rca.RCAAutomation import RCAAutomation\n",
    "from core.rca.rca_baseline import RCABaseline\n",
    "from core.rca.ci_relationship import RelateVM"
   ]
  },
  {
   "cell_type": "code",
   "execution_count": 43,
   "id": "26954677",
   "metadata": {},
   "outputs": [],
   "source": [
    "# #added\n",
    "# from azure.storage.blob import BlockBlobService\n",
    "# block_blob_service = BlockBlobService(account_name='loganalyticstoblobpoc', account_key='/BaAO0Ydf2KSnDIOIAcBwuFF6ET+MbyTq+sp3KdEP36kG5o4mkCnsMozDxgK7oHotVNShlZsG3l/qH7k4LWx7A==')\n",
    "# container_name ='kubeflow'\n",
    "# generator = block_blob_service.list_blobs(container_name)"
   ]
  },
  {
   "cell_type": "code",
   "execution_count": 19,
   "id": "10343f78",
   "metadata": {},
   "outputs": [],
   "source": [
    "# #added\n",
    "# from azure.storage.blob import BlockBlobService\n",
    "# import os.path\n",
    "# filepath = 'kubeflow/FileStore/models/globelife/text_classification_model/rf_text_clf_model_v7.pkl'\n",
    "# if not os.path.isfile(filepath):\n",
    "#     block_blob_service = BlockBlobService(account_name='loganalyticstoblobpoc', account_key='/BaAO0Ydf2KSnDIOIAcBwuFF6ET+MbyTq+sp3KdEP36kG5o4mkCnsMozDxgK7oHotVNShlZsG3l/qH7k4LWx7A==')\n",
    "#     container_name ='kubeflow'\n",
    "#     generator = block_blob_service.list_blobs(container_name)\n",
    "#     print(\"filepath: \", filepath)\n",
    "#     fp = open(filepath, 'wb+')\n",
    "\n",
    "#     for blob in generator:\n",
    "#         # Using `get_blob_to_bytes`\n",
    "#         b = block_blob_service.get_blob_to_bytes(container_name, blob.name)\n",
    "#         fp.write(b.content)\n",
    "\n",
    "#     fp.flush()\n",
    "#     fp.close()\n",
    "# file = open(filepath, 'rb')\n",
    "# model = pickle.load(file)\n",
    "# file.flush()\n",
    "# file.close()        \n",
    "# #model = pickle.load(open(filepath, 'rb'))\n"
   ]
  },
  {
   "cell_type": "code",
   "execution_count": 11,
   "id": "a049adf1",
   "metadata": {},
   "outputs": [],
   "source": [
    "# #added\n",
    "# file.close() "
   ]
  },
  {
   "cell_type": "code",
   "execution_count": 9,
   "id": "c57f2c27",
   "metadata": {},
   "outputs": [
    {
     "ename": "UnpicklingError",
     "evalue": "A load persistent id instruction was encountered,\nbut no persistent_load function was specified.",
     "output_type": "error",
     "traceback": [
      "\u001b[0;31m---------------------------------------------------------------------------\u001b[0m",
      "\u001b[0;31mUnpicklingError\u001b[0m                           Traceback (most recent call last)",
      "\u001b[0;32m<ipython-input-9-98fa86b894c1>\u001b[0m in \u001b[0;36m<module>\u001b[0;34m\u001b[0m\n\u001b[1;32m      1\u001b[0m \u001b[0;32mimport\u001b[0m \u001b[0mpickle\u001b[0m\u001b[0;34m\u001b[0m\u001b[0;34m\u001b[0m\u001b[0m\n\u001b[1;32m      2\u001b[0m \u001b[0;32mwith\u001b[0m \u001b[0mopen\u001b[0m\u001b[0;34m(\u001b[0m\u001b[0;34mr\"kubeflow/FileStore/models/globelife/text_classification_model/rf_text_clf_model_v3.pkl\"\u001b[0m\u001b[0;34m,\u001b[0m \u001b[0;34m\"rb\"\u001b[0m\u001b[0;34m)\u001b[0m \u001b[0;32mas\u001b[0m \u001b[0minput_file\u001b[0m\u001b[0;34m:\u001b[0m\u001b[0;34m\u001b[0m\u001b[0;34m\u001b[0m\u001b[0m\n\u001b[0;32m----> 3\u001b[0;31m     \u001b[0mmodel\u001b[0m \u001b[0;34m=\u001b[0m \u001b[0mpickle\u001b[0m\u001b[0;34m.\u001b[0m\u001b[0mload\u001b[0m\u001b[0;34m(\u001b[0m\u001b[0minput_file\u001b[0m\u001b[0;34m)\u001b[0m\u001b[0;34m\u001b[0m\u001b[0;34m\u001b[0m\u001b[0m\n\u001b[0m",
      "\u001b[0;31mUnpicklingError\u001b[0m: A load persistent id instruction was encountered,\nbut no persistent_load function was specified."
     ]
    }
   ],
   "source": [
    "# #added\n",
    "# import pickle\n",
    "# with open(r\"kubeflow/FileStore/models/globelife/text_classification_model/rf_text_clf_model_v3.pkl\", \"rb\") as input_file:\n",
    "#     model = pickle.load(input_file)"
   ]
  },
  {
   "cell_type": "code",
   "execution_count": 22,
   "id": "ce1f7b9e",
   "metadata": {},
   "outputs": [],
   "source": [
    "customer = os.environ['CUSTOMER']\n",
    "aiopsconfig = AiopsConfig(customer, 2, rca_config=rca_configurations, rca_modelDBConfig=rca_modelDBconfig)"
   ]
  },
  {
   "cell_type": "code",
   "execution_count": 23,
   "id": "4b6e857f",
   "metadata": {},
   "outputs": [
    {
     "data": {
      "text/plain": [
       "{'globelife': {'query_incidents': \"Select dbo.Incident.Incident_Number as 'Incident Number', dbo.ITIL_Transaction.Urgency as 'Urgency', dbo.ITIL_Transaction.Impact as 'Impact', dbo.ITIL_Transaction.Priority as 'Priority', dbo.Incident.Reported_Source as 'Reported Source', dbo.ITIL_Transaction.Headline as 'Summary', dbo.ITIL_Transaction.Description as 'Detailed Description', Submitter.Remedy_Login_ID as 'Incident Management-Submitter.Person ID', Submitter.FULL_NAME as 'Submitter Name', Submitter.REGION as 'Submitter Site', Submitter.INTERNET_E_MAIL as 'Incident Management-Submitter.Internet E Mail', Submitter_Company.COMPANY as 'Company', dbo.ITIL_Transaction.Last_Modified_By as 'Last Modified By', dbo.Incident.Status as 'Status', dbo.Incident.Resolution as 'Resolution', dbo.ITIL_Transaction.Product_Categorization_Tier_1 as 'Product Categorization Tier 1', dbo.ITIL_Transaction.Categorization_Tier_1 as 'Operational Categorization Tier 1', dbo.ITIL_Transaction.Categorization_Tier_2 as 'Operational Categorization Tier 2', INCA_Supportgroup.SUPPORT_GROUP_NAME as 'Assignee Support Group', INCA_Supportgroup.SUPPORT_ORGANIZATION as 'Assignee Support Organization', INCA_Assignee.FULL_NAME as 'Assignee', dbo.Incident.GROUP_TRANSFERS as 'Group Transfers', Customer.Remedy_Login_ID as 'Incident Management-Customer.Person ID', Customer.Full_Name as 'Incident Management-Customer.Name', Customer.INTERNET_E_MAIL as 'Incident Management-Customer.Internet E Mail', Customer_Site.SITE as 'Incident Management-Customer.Site', Customer_Site.COUNTRY as 'Site Country', Customer.VIP as 'VIP', dbo.ITIL_Transaction.First_Call_Resolution as 'First Call Resolution', dbo.Incident.CI_Name as 'CI Name', dbo.Incident.CI as 'CI', dbo.Incident.Master_Ticket as 'Master Ticket', dbo.ITIL_Transaction.HelpDesk_Resolvable as 'Helpdesk Resolvable'\\t, dbo.Incident.Service_Type as 'Service Type', dbo.Incident_StatusHistory.RESOLVED_USER as 'Resolved User', dbo.Incident_StatusHistory.CLOSED_USER as 'Closed User', dbo.Incident.Reported_Date as 'Reported Date Time (Company Offset)', dbo.Incident.Last_Resolved_Date as 'Last Resolved Date Time (Company Offset)',  dbo.Incident.Closed_Date as 'Closed Date Time (Company Offset)', dbo.ITIL_Transaction.Last_Modified_Date as 'Last Modified Date Time (Company Offset)', dbo.Incident.Re_Opened_Date as 'Re-Opened Date Time (Company Offset)', INCA_Supportgroup.Business_Group as 'Business Group', INCA_Supportgroup.dept_group_hierarchy1 as 'Owner', Customer.UG_BUS_UNIT_SHORT as 'Business Unit', Customer.COST_CENTER_NAME as 'Org Unit', Customer.Cost_Center_Code as 'Division' FROM dbo.Incident_CustomerSpecific RIGHT OUTER JOIN dbo.Incident  with (nolock)  ON (dbo.Incident.Incident_ID=dbo.Incident_CustomerSpecific.Incident_ID and dbo.Incident.DataSourceID=dbo.Incident_CustomerSpecific.DataSourceID) LEFT OUTER JOIN dbo.ITIL_Transaction  with (nolock) ON (dbo.ITIL_Transaction.Transaction_ID=dbo.Incident.Transaction_ID and dbo.ITIL_Transaction.DataSourceID=dbo.Incident.DataSourceID) LEFT OUTER JOIN dbo.DataSource  with (nolock) ON (dbo.ITIL_Transaction.DataSourceID=dbo.DataSource.DataSourceID) LEFT OUTER JOIN dbo.SUPPORTGROUP  INCA_Supportgroup  with (nolock) ON (dbo.ITIL_Transaction.DataSourceID=INCA_Supportgroup.DataSourceID and dbo.ITIL_Transaction.ASSIGNED_GROUP_ID=INCA_Supportgroup.SUPPORT_GROUP_ID) LEFT OUTER JOIN dbo.PERSON  INCA_Assignee  with (nolock) ON (dbo.ITIL_Transaction.DataSourceID=INCA_Assignee.DataSourceID and dbo.ITIL_Transaction.Assignee_Login_ID=INCA_Assignee.PERSON_SK) LEFT OUTER JOIN dbo.PERSON  Customer  with (nolock) ON (dbo.ITIL_Transaction.DataSourceID=Customer.DataSourceID and dbo.ITIL_Transaction.PERSON_SK=Customer.PERSON_SK) LEFT OUTER JOIN dbo.COMPANY Customer_Company  with (nolock) ON (dbo.ITIL_Transaction.DataSourceID=Customer_Company.DataSourceID and dbo.ITIL_Transaction.COMPANY_SK=Customer_Company.COMPANY_SK) LEFT OUTER JOIN dbo.SITE  Customer_Site  with (nolock) ON ( Customer.DataSourceID=Customer_Site.DataSourceID and Customer.SITE_SK=Customer_Site.SITE_SK) LEFT OUTER JOIN dbo.PERSON  Submitter  with (nolock) ON (dbo.ITIL_Transaction.DataSourceID=Submitter.DataSourceID and dbo.ITIL_Transaction.Submitter_Person_SK=Submitter.PERSON_SK) LEFT OUTER JOIN dbo.COMPANY  Submitter_Company  with (nolock) ON (Submitter.DataSourceID=Submitter_Company.DataSourceID and Submitter.COMPANY_SK=Submitter_Company.COMPANY_SK) LEFT OUTER JOIN dbo.SITE  Submitter_site  with (nolock) ON (Submitter.DataSourceID=Submitter_site.DataSourceID and Submitter.SITE_SK=Submitter_site.SITE_SK) LEFT OUTER JOIN dbo.Incident_StatusHistory  with (nolock) ON (dbo.Incident.Transaction_ID=dbo.Incident_StatusHistory.Transaction_ID and dbo.Incident.DataSourceID=dbo.Incident_StatusHistory.DataSourceID) LEFT OUTER JOIN dbo.SUPPORTGROUP  INCO_SupportGroup  with (nolock) ON (dbo.ITIL_Transaction.DataSourceID=INCO_SupportGroup.DataSourceID and dbo.ITIL_Transaction.Owner_Group_ID=INCO_SupportGroup.SUPPORT_GROUP_ID) WHERE dbo.Incident.Status <> 'Cancelled' and dbo.Incident.Status  IN  ('Closed') and dbo.Incident.DataSourceID=90 AND Customer_Company.Company ='Torchmark'\",\n",
       "  'query_recommendation': 'select * from recommendation_mapping',\n",
       "  'db_server_name': '172.16.154.70',\n",
       "  'db_port': 1433,\n",
       "  'database_name': 'ODS',\n",
       "  'configs': {'DATA_SOURCE_ID': 90, 'DAYS': 7},\n",
       "  'query_change': \"select       Change.ChangeRequest_ID,       Change.SCHEDULED_END_DATE,       Change.SCHEDULED_START_DATE,       Change.Product_name,       Change.CI_Name,       Change.Business_Justification,       Change.DataSourceID,       Customer_Company.COMPANY       from change       left join dbo.ITIL_Transaction with       (nolock) ON (dbo.change.Transaction_ID=dbo.ITIL_Transaction.Transaction_ID and       change.DataSourceID=dbo.ITIL_Transaction.DataSourceID)       LEFT JOIN dbo.COMPANY Customer_Company  with (nolock) ON        (dbo.change.DataSourceID=Customer_Company.DataSourceID and dbo.ITIL_Transaction.COMPANY_SK=Customer_Company.COMPANY_SK)       where change.DataSourceID = 90 and Customer_Company.COMPANY = 'Torchmark'       and Change.Product_name not in ('CI_NOT_FOUND','')\",\n",
       "  'query_feedback': \"select number,dv_u_aiops_recommendation,dv_u_not_utilized_reasons,u_has_aiops_recommended_any_resolution,opened_at,sys_updated_on from ods_sn_uni.[dbo].incident where u_has_aiops_recommended_any_resolution = 1 and dv_company like '%torchmark%'and sys_updated_on>='{}'\",\n",
       "  'query_application': \"select category,subcategory,name,dv_sys_class_name,dv_classifier,dv_running_process,sys_id from cmdb_ci_appl where dv_company='Torchmark'\",\n",
       "  'kafka_servers': '172.16.154.41:9092, 172.16.154.42:9092',\n",
       "  'kafka_topics': 'globelife.servicenow.incident.table',\n",
       "  'offset': 'latest',\n",
       "  'display_value': 'display_value',\n",
       "  'mapping_table_db': 'ODS_SN_UNI',\n",
       "  'ci_mapping_table_query': 'select sys_id,name from [cmdb_ci]',\n",
       "  'IsGenericModel': False,\n",
       "  'summary_col': 'Summary',\n",
       "  'category': 'Infrastructure',\n",
       "  'feature_selected': 'Detailed Description',\n",
       "  'new_feature_name': 'cleaned_data',\n",
       "  'category_column_name': 'Operational Categorization Tier 1',\n",
       "  'test_size': 0.2,\n",
       "  'stopwords_list': ['le', 'please', 'hi', 'thanks', 'regards', 'g'],\n",
       "  'abbriviation_dictioary': {'pc': 'personal computer',\n",
       "   'wfh': 'work from home',\n",
       "   'r/click': 'right click',\n",
       "   'ie': 'internet explorer',\n",
       "   'acct': 'account',\n",
       "   'db': 'database'},\n",
       "  'wireless_matches': {'label': ['wireless', 'access', 'point'],\n",
       "   'centroid_text': 'Wireless Access Point (Thin) 9-4-308-2, IP 10.12.8.240, from Controller TAR-5-3-223-5520-WLC-1, is 2'},\n",
       "  'backup_job_matches': {'label': ['backup'],\n",
       "   'centroid_text': 'mktmsisql02_mktmsisql02_db - mssql_database_logbackup_age - CRITICAL'},\n",
       "  'temp_probe_matches': {'label': ['temperature', 'probe'],\n",
       "   'centroid_text': \"'Temperature' probe 'Switch 1 - Outlet Temp Sensor on REN-26-1-123-3850-PROCESS-1' is in a 'Warning' state. The latest reading was : '42' (Degrees Celsius) Node: 'REN-26-1-123-3850-PROCESS-1' IP Address: '10.40.0.9'\"},\n",
       "  'fan_probe_matches': {'label': ['fan', 'probe', 'revolution'],\n",
       "   'centroid_text': \"'Fan' probe 'Fan Module-3 on TARFCSW02' is in a 'Critical' state. The latest reading was : '' (Revolutions Per Minute) Node: 'TARFCSW02' IP Address: '10.108.40.111\"},\n",
       "  'power_sensor_matches': {'label': ['power', 'sensor'],\n",
       "   'centroid_text': \"'Power Supply' probe 'Chassis 1 power-supply 2 power-input Sensor on TAR-5-3-223-6509-CORE-1' is in a 'Critical' state. The latest reading was : '220' (Volts) Node: 'TAR-5-3-223-6509-CORE-1' IP Address: '10.10.2.4\"},\n",
       "  'window_service_matches': {'label': ['service',\n",
       "    'winservice',\n",
       "    'metric processor',\n",
       "    'log processor',\n",
       "    'mule enterprise',\n",
       "    'logrhythm'],\n",
       "   'centroid_text': 'mkhsp2xdgp09 - win_service_wmi - CRITICAL - CrowdStrike Falcon Sensor Service (CSFalconService)'},\n",
       "  'wan_capacity_matches': {'label': ['wan', 'bandwidth', 'utilization'],\n",
       "   'centroid_text': 'WAN Bandwidth Utilization-link to PE ## - Critical for Interface: GigabitEthernet0/0 ##WAN-Link_P2P_REN-SUNY-3-311-3925-P2PWAN-1_G0/0_Spectrum_51.L1X on REN-85-1-330-3925-P2PWAN-1 has triggered Critical threshold value of 90%; Utilization of Receive is 94 %, Transmit is 1 %'},\n",
       "  'inc_alert_matches': {'label': ['alert', 'configured', 'incident'],\n",
       "   'centroid_text': 'alert configured generate incident regeneronservicenowcom exchange mailbox advanced critical triggered exchange related alert generated new solarwinds environment duplicate'},\n",
       "  'power_supply_matches': {'label': ['power', 'supply'],\n",
       "   'centroid_text': \"'Power Supply' probe 'PEM Vin P1/2 on REN-85-1-330-ASR1002X-AWS-1' is in a 'Critical' state. The latest reading was : '117' (Volts) Node: 'REN-85-1-330-ASR1002X-AWS-1' IP Address: '10.20.4.24\"},\n",
       "  'bgp_router_matches': {'label': ['bgp', 'neighbor'],\n",
       "   'centroid_text': \"'bgp neighbor triggered bgp neighbor triggered bgp neighbor triggered bgp neighbor triggered bgp neighbor triggered bgp neighbor triggered bgp neighbor triggered bgp neighbor triggered bgp neighbor triggered bgp neighbor triggered bgp neighbor triggered bgp neighbor triggered bgp neighbor triggered bgp neighbor triggered bgp neighbor triggered bgp neighbor triggered bgp neighbor triggered bgp neighbor triggered bgp neighbor triggered bgp neighbor triggered bgp neighbor triggered bgp neighbor triggered bgp neighbor triggered bgp neighbor triggered bgp neighbor triggered bgp neighbor triggered bgp neighbor triggered bgp neighbor triggered bgp neighbor triggered bgp neighbor triggered bgp neighbor triggered bgp neighbor triggered bgp neighbor triggered bgp neighbor triggered bgp neighbor triggered bgp neighbor triggered bgp neighbor triggered bgp neighbor triggered\"},\n",
       "  'appcomp_matches': {'label': ['application', 'down'],\n",
       "   'centroid_text': 'app.FirstUAOnTheWeb.com is Down http://app.FirstUAOnTheWeb.com'},\n",
       "  'fibrechannel_matches': {'label': ['fibre', 'channel', 'critical'],\n",
       "   'centroid_text': \"'Disk' probe 'DGC Fibre Channel Disk (naa.6006016017303a00d41e855952dce711) on tarprdesxi17' is in a 'Critical' state. The latest reading was : '5497558138880' (Bytes) Node: 'tarprdesxi17' IP Address: '10.10.200.94'\"},\n",
       "  'cpu_matches': {'label': ['cpu'],\n",
       "   'centroid_text': 'CPU Critical threshold (95)% exceeded. CPU load for the last 30 minutes is: 100 %, on Node: SOFTMAX, IP Address: 10.20.221.205'},\n",
       "  'mem_matches': {'label': ['ram', 'memory', 'mem'],\n",
       "   'centroid_text': \"RAM Warning threshold (95)% is reached or exceeded. Memory load for the last 30 minutes is: 95 % System Name: '' IP Address: '10.70.5.2\"},\n",
       "  'disk_matches': {'label': ['disk',\n",
       "    'drive',\n",
       "    'warning state',\n",
       "    'critical state'],\n",
       "   'centroid_text': 'Disk of MKTCDVSQL10-C:\\\\ Label:Boot Volume B295F74D is in Warning State'},\n",
       "  'device_threshold_matches': {'label': ['breached', 'threshold'],\n",
       "   'centroid_text': 'Tunnel1 att-unman att-unman att-unman att-unman att-unman att-unman att on USREPBBASNJ01R has breached Warning threshold value of 90 Receive Utilization is 0 % Transmit utilization is 91 %'},\n",
       "  'interface_err_disabled_matches': {'label': ['errdisabled',\n",
       "    'condition',\n",
       "    'interface'],\n",
       "   'centroid_text': 'REN-85-1-900-3850-ACCESS-1 has an err-disabled condition portLoopback on interface GigabitEthernet1/0/15. Device calls itself: , Device Model: Cisco WS-C3850-48P-S. View the Orion report Cisco Devices with Active ErrDisabled for all devices with active err-disabled conditions'},\n",
       "  'interface_matches': {'label': ['interface'],\n",
       "   'centroid_text': \"Interface 'SHO-1-3N-863-4510-ACCESS-1 - TenGigabitEthernet2/6 Printers' is 'Down '\"},\n",
       "  'server_matches': {'label': ['server', 'down'],\n",
       "   'centroid_text': 'servername down'},\n",
       "  'cas_matches': {'label': ['winuptime', 'server up'],\n",
       "   'centroid_text': 'servername down'},\n",
       "  'node_down_matches': {'label': ['node', 'ip', 'address'],\n",
       "   'centroid_text': \"Node, 'TARRGCLIMSDB01P' is 'Down' System Name: 'tarrgclimsdb01p' IP Address: '10.10.219.27\"},\n",
       "  'hardware_matches': {'label': ['hardware'],\n",
       "   'centroid_text': 'Hardware status on GMS-MDS-01 is Critical'},\n",
       "  'sql_matches': {'label': ['sql'],\n",
       "   'centroid_text': 'mktmprlawsql01_mktmprlawsql01_db - mssql_error_in_logs - CRITICAL'},\n",
       "  'restore_data': {'label': ['restore'],\n",
       "   'centroid_text': 'test restore server'},\n",
       "  'unknown_match': {'label': [],\n",
       "   'centroid_text': 'mktmpribdsql01_mktmpribdsql01_db - mssql_database_online1 - CRITICAL'},\n",
       "  'active_change_query': 'select i.`Incident Number`,c.ChangeRequest_ID as active_change_number,c.Business_Justification from df_incidents_reported_view i left join df_change_reported_view c on c.Product_name = i.CI_Name where cast(i.Reported_Date_Time as DATE) between cast(c.SCHEDULED_START_DATE as DATE) and cast(c.SCHEDULED_END_DATE as DATE)',\n",
       "  'recent_changes_query': 'select i.`Incident Number`,c.ChangeRequest_ID as recent_change_number,c.Business_Justification as Business_Justification_recent_change from df_change_view  i left outer join df_change_reported_view c on c.Product_name = i.CI_Name where DATEDIFF(i.Reported_Date_Time, c.SCHEDULED_END_DATE) > 0 and DATEDIFF(i.Reported_Date_Time, c.SCHEDULED_END_DATE) < 7',\n",
       "  'automate_feedback': True,\n",
       "  'priority_filter': '2 - High,3 - Medium',\n",
       "  'class_filter': 'disk_cap,server_issue',\n",
       "  'kafka_topic_name': 'aiops.recommendation'}}"
      ]
     },
     "execution_count": 23,
     "metadata": {},
     "output_type": "execute_result"
    }
   ],
   "source": [
    "# #added\n",
    "# rca_configurations"
   ]
  },
  {
   "cell_type": "code",
   "execution_count": 30,
   "id": "f58030a2",
   "metadata": {},
   "outputs": [],
   "source": [
    "#added line number 42 changed access structure to the append function\n",
    "# %run /home/jovyan/work/Tanish/aiops-ml-core/utils/persistentstore.py"
   ]
  },
  {
   "cell_type": "code",
   "execution_count": 31,
   "id": "49363c74",
   "metadata": {},
   "outputs": [
    {
     "name": "stdout",
     "output_type": "stream",
     "text": [
      "key:  service-principal-id\n",
      "secret:  b5c2e137-1f67-426c-871b-b67024e0d229\n",
      "key:  service-principal-secret\n",
      "secret:  ~d5MS_fL-N62CK666dQ~~QE1Ui323Mej-s\n",
      "key:  tenant-id\n",
      "secret:  8d894c2b-238f-490b-8dd1-d93898c5bf83\n",
      "key:  service-principal-id\n",
      "secret:  b5c2e137-1f67-426c-871b-b67024e0d229\n",
      "key:  service-principal-secret\n",
      "secret:  ~d5MS_fL-N62CK666dQ~~QE1Ui323Mej-s\n",
      "key:  tenant-id\n",
      "secret:  8d894c2b-238f-490b-8dd1-d93898c5bf83\n",
      "key:  service-principal-id\n",
      "secret:  b5c2e137-1f67-426c-871b-b67024e0d229\n",
      "key:  service-principal-secret\n",
      "secret:  ~d5MS_fL-N62CK666dQ~~QE1Ui323Mej-s\n",
      "key:  tenant-id\n",
      "secret:  8d894c2b-238f-490b-8dd1-d93898c5bf83\n",
      "filepath:  kubeflow/FileStore/models/globelife/text_classification_model/rf_text_clf_model_v7.pkl\n",
      "key:  service-principal-id\n",
      "secret:  b5c2e137-1f67-426c-871b-b67024e0d229\n",
      "key:  service-principal-secret\n",
      "secret:  ~d5MS_fL-N62CK666dQ~~QE1Ui323Mej-s\n",
      "key:  tenant-id\n",
      "secret:  8d894c2b-238f-490b-8dd1-d93898c5bf83\n",
      "key:  service-principal-id\n",
      "secret:  b5c2e137-1f67-426c-871b-b67024e0d229\n",
      "key:  service-principal-secret\n",
      "secret:  ~d5MS_fL-N62CK666dQ~~QE1Ui323Mej-s\n",
      "key:  tenant-id\n",
      "secret:  8d894c2b-238f-490b-8dd1-d93898c5bf83\n",
      "key:  ods-user-name\n",
      "secret:  odsuser\n",
      "key:  ods-user-password\n",
      "secret:  ReadOnly\n"
     ]
    }
   ],
   "source": [
    "# MAGIC %md ###RCA Insight Generation\n",
    "\n",
    "# COMMAND ----------\n",
    "\n",
    "rca = RCAInsightGenerator(aiopsconfig,spark)\n",
    "rca.generate_insight()"
   ]
  },
  {
   "cell_type": "code",
   "execution_count": 32,
   "id": "25d8bf1e",
   "metadata": {},
   "outputs": [
    {
     "name": "stdout",
     "output_type": "stream",
     "text": [
      "key:  service-principal-id\n",
      "secret:  b5c2e137-1f67-426c-871b-b67024e0d229\n",
      "key:  service-principal-secret\n",
      "secret:  ~d5MS_fL-N62CK666dQ~~QE1Ui323Mej-s\n",
      "key:  tenant-id\n",
      "secret:  8d894c2b-238f-490b-8dd1-d93898c5bf83\n",
      "key:  service-principal-id\n",
      "secret:  b5c2e137-1f67-426c-871b-b67024e0d229\n",
      "key:  service-principal-secret\n",
      "secret:  ~d5MS_fL-N62CK666dQ~~QE1Ui323Mej-s\n",
      "key:  tenant-id\n",
      "secret:  8d894c2b-238f-490b-8dd1-d93898c5bf83\n",
      "key:  ods-user-name\n",
      "secret:  odsuser\n",
      "key:  ods-user-password\n",
      "secret:  ReadOnly\n",
      "key:  service-principal-id\n",
      "secret:  b5c2e137-1f67-426c-871b-b67024e0d229\n",
      "key:  service-principal-secret\n",
      "secret:  ~d5MS_fL-N62CK666dQ~~QE1Ui323Mej-s\n",
      "key:  tenant-id\n",
      "secret:  8d894c2b-238f-490b-8dd1-d93898c5bf83\n"
     ]
    }
   ],
   "source": [
    "# MAGIC %md ###RCA Feedback\n",
    "\n",
    "# COMMAND ----------\n",
    "\n",
    "rca_automation = RCAAutomation(aiopsconfig, spark)\n",
    "rca_automation.process_feedback()"
   ]
  },
  {
   "cell_type": "code",
   "execution_count": 12,
   "id": "653d9623",
   "metadata": {},
   "outputs": [
    {
     "name": "stdout",
     "output_type": "stream",
     "text": [
      "key:  service-principal-id\n",
      "secret:  b5c2e137-1f67-426c-871b-b67024e0d229\n",
      "key:  service-principal-secret\n",
      "secret:  ~d5MS_fL-N62CK666dQ~~QE1Ui323Mej-s\n",
      "key:  tenant-id\n",
      "secret:  8d894c2b-238f-490b-8dd1-d93898c5bf83\n",
      "key:  service-principal-id\n",
      "secret:  b5c2e137-1f67-426c-871b-b67024e0d229\n",
      "key:  service-principal-secret\n",
      "secret:  ~d5MS_fL-N62CK666dQ~~QE1Ui323Mej-s\n",
      "key:  tenant-id\n",
      "secret:  8d894c2b-238f-490b-8dd1-d93898c5bf83\n",
      "key:  service-principal-id\n",
      "secret:  b5c2e137-1f67-426c-871b-b67024e0d229\n",
      "key:  service-principal-secret\n",
      "secret:  ~d5MS_fL-N62CK666dQ~~QE1Ui323Mej-s\n",
      "key:  tenant-id\n",
      "secret:  8d894c2b-238f-490b-8dd1-d93898c5bf83\n",
      "key:  service-principal-id\n",
      "secret:  b5c2e137-1f67-426c-871b-b67024e0d229\n",
      "key:  service-principal-secret\n",
      "secret:  ~d5MS_fL-N62CK666dQ~~QE1Ui323Mej-s\n",
      "key:  tenant-id\n",
      "secret:  8d894c2b-238f-490b-8dd1-d93898c5bf83\n",
      "key:  service-principal-id\n",
      "secret:  b5c2e137-1f67-426c-871b-b67024e0d229\n",
      "key:  service-principal-secret\n",
      "secret:  ~d5MS_fL-N62CK666dQ~~QE1Ui323Mej-s\n",
      "key:  tenant-id\n",
      "secret:  8d894c2b-238f-490b-8dd1-d93898c5bf83\n",
      "key:  service-principal-id\n",
      "secret:  b5c2e137-1f67-426c-871b-b67024e0d229\n",
      "key:  service-principal-secret\n",
      "secret:  ~d5MS_fL-N62CK666dQ~~QE1Ui323Mej-s\n",
      "key:  tenant-id\n",
      "secret:  8d894c2b-238f-490b-8dd1-d93898c5bf83\n",
      "key:  service-principal-id\n",
      "secret:  b5c2e137-1f67-426c-871b-b67024e0d229\n",
      "key:  service-principal-secret\n",
      "secret:  ~d5MS_fL-N62CK666dQ~~QE1Ui323Mej-s\n",
      "key:  tenant-id\n",
      "secret:  8d894c2b-238f-490b-8dd1-d93898c5bf83\n"
     ]
    },
    {
     "name": "stderr",
     "output_type": "stream",
     "text": [
      "/usr/local/spark/python/pyspark/sql/pandas/group_ops.py:81: UserWarning: It is preferred to use 'applyInPandas' over this API. This API will be deprecated in the future releases. See SPARK-28264 for more details.\n",
      "  warnings.warn(\n"
     ]
    },
    {
     "name": "stdout",
     "output_type": "stream",
     "text": [
      "key:  service-principal-id\n",
      "secret:  b5c2e137-1f67-426c-871b-b67024e0d229\n",
      "key:  service-principal-secret\n",
      "secret:  ~d5MS_fL-N62CK666dQ~~QE1Ui323Mej-s\n",
      "key:  tenant-id\n",
      "secret:  8d894c2b-238f-490b-8dd1-d93898c5bf83\n",
      "key:  service-principal-id\n",
      "secret:  b5c2e137-1f67-426c-871b-b67024e0d229\n",
      "key:  service-principal-secret\n",
      "secret:  ~d5MS_fL-N62CK666dQ~~QE1Ui323Mej-s\n",
      "key:  tenant-id\n",
      "secret:  8d894c2b-238f-490b-8dd1-d93898c5bf83\n",
      "key:  ods-user-name\n",
      "secret:  odsuser\n",
      "key:  ods-user-password\n",
      "secret:  ReadOnly\n",
      "key:  service-principal-id\n",
      "secret:  b5c2e137-1f67-426c-871b-b67024e0d229\n",
      "key:  service-principal-secret\n",
      "secret:  ~d5MS_fL-N62CK666dQ~~QE1Ui323Mej-s\n",
      "key:  tenant-id\n",
      "secret:  8d894c2b-238f-490b-8dd1-d93898c5bf83\n"
     ]
    }
   ],
   "source": [
    "# MAGIC %md ###RCA Baseline\n",
    "\n",
    "# COMMAND ----------\n",
    "\n",
    "rca_baseline = RCABaseline(aiopsconfig,spark)\n",
    "#RCA Summary\n",
    "rca_baseline.final_rca_baseline_summary()\n",
    "#Reasons for rejected RCA recommendations\n",
    "rca_baseline.rejected_rca_recommendations()\n",
    "#RCA MTTR Calculation\n",
    "rca_baseline.mttr_baseline()"
   ]
  },
  {
   "cell_type": "code",
   "execution_count": 13,
   "id": "55a403eb",
   "metadata": {},
   "outputs": [
    {
     "name": "stdout",
     "output_type": "stream",
     "text": [
      "key:  service-principal-id\n",
      "secret:  b5c2e137-1f67-426c-871b-b67024e0d229\n",
      "key:  service-principal-secret\n",
      "secret:  ~d5MS_fL-N62CK666dQ~~QE1Ui323Mej-s\n",
      "key:  tenant-id\n",
      "secret:  8d894c2b-238f-490b-8dd1-d93898c5bf83\n",
      "key:  ods-user-name\n",
      "secret:  odsuser\n",
      "key:  ods-user-password\n",
      "secret:  ReadOnly\n",
      "key:  service-principal-id\n",
      "secret:  b5c2e137-1f67-426c-871b-b67024e0d229\n",
      "key:  service-principal-secret\n",
      "secret:  ~d5MS_fL-N62CK666dQ~~QE1Ui323Mej-s\n",
      "key:  tenant-id\n",
      "secret:  8d894c2b-238f-490b-8dd1-d93898c5bf83\n",
      "key:  service-principal-id\n",
      "secret:  b5c2e137-1f67-426c-871b-b67024e0d229\n",
      "key:  service-principal-secret\n",
      "secret:  ~d5MS_fL-N62CK666dQ~~QE1Ui323Mej-s\n",
      "key:  tenant-id\n",
      "secret:  8d894c2b-238f-490b-8dd1-d93898c5bf83\n",
      "key:  service-principal-id\n",
      "secret:  b5c2e137-1f67-426c-871b-b67024e0d229\n",
      "key:  service-principal-secret\n",
      "secret:  ~d5MS_fL-N62CK666dQ~~QE1Ui323Mej-s\n",
      "key:  tenant-id\n",
      "secret:  8d894c2b-238f-490b-8dd1-d93898c5bf83\n"
     ]
    }
   ],
   "source": [
    "# MAGIC %md ###CI Relationship\n",
    "device_rel = RelateVM(aiopsconfig,spark)\n",
    "relations_df = device_rel.create_relations_table()"
   ]
  },
  {
   "cell_type": "code",
   "execution_count": 34,
   "id": "5e351175",
   "metadata": {},
   "outputs": [],
   "source": [
    "spark.stop()"
   ]
  }
 ],
 "metadata": {
  "kernelspec": {
   "display_name": "Python 3",
   "language": "python",
   "name": "python3"
  },
  "language_info": {
   "codemirror_mode": {
    "name": "ipython",
    "version": 3
   },
   "file_extension": ".py",
   "mimetype": "text/x-python",
   "name": "python",
   "nbconvert_exporter": "python",
   "pygments_lexer": "ipython3",
   "version": "3.8.3"
  }
 },
 "nbformat": 4,
 "nbformat_minor": 5
}
