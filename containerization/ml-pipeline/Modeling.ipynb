{
 "cells": [
  {
   "cell_type": "code",
   "execution_count": 11,
   "id": "af5d7c46",
   "metadata": {},
   "outputs": [],
   "source": [
    "import os\n",
    "# os.environ['SCOPE'] = 'uat'\n",
    "# os.environ['CUSTOMER'] = 'CSIO'\n",
    "# os.environ['NameSpace'] = 'airflow'\n",
    "if os.environ['CUSTOMER'] == 'CSIO':\n",
    "    %run /home/jovyan/work/DAGS_Airflow/icm_config_csio.ipynb\n",
    "elif os.environ['CUSTOMER'] == 'globelife':\n",
    "    %run /home/jovyan/work/Tanish/icm_config.ipynb\n",
    "elif os.environ['CUSTOMER'] == 'regeneron':\n",
    "    %run /home/jovyan/work/DAGS_Airflow/icm_config_regeneron.ipynb"
   ]
  },
  {
   "cell_type": "code",
   "execution_count": 12,
   "id": "8d7ddabf",
   "metadata": {},
   "outputs": [],
   "source": [
    "%run /home/jovyan/work/DAGS_Airflow/sparkConf.ipynb"
   ]
  },
  {
   "cell_type": "code",
   "execution_count": 13,
   "id": "d0e50ade",
   "metadata": {},
   "outputs": [
    {
     "data": {
      "text/plain": [
       "'CSIO'"
      ]
     },
     "execution_count": 13,
     "metadata": {},
     "output_type": "execute_result"
    }
   ],
   "source": [
    "Activity = os.environ['CUSTOMER']\n",
    "Activity"
   ]
  },
  {
   "cell_type": "code",
   "execution_count": 14,
   "id": "007f3d63",
   "metadata": {},
   "outputs": [],
   "source": [
    "import os\n",
    "# Set executor python spark environments\n",
    "os.environ['PYSPARK_PYTHON'] = \"/miniconda/bin/python\"\n",
    "from utils.spark_util import KubeflowSparkUtil\n",
    "sparkConf = KubeflowSparkUtil.get_spark_conf(KubeflowSparkUtil, spark_conf, 'AiopsModeling-Airflow-'+Activity, 'k8s://https://kubernetes.default.svc.cluster.local:443')\n",
    "from pyspark.sql import SQLContext\n",
    "spark=  KubeflowSparkUtil(sparkConf).get_spark_session()\n",
    "sc = spark.sparkContext\n",
    "sqlContext = SQLContext(sc)"
   ]
  },
  {
   "cell_type": "code",
   "execution_count": 4,
   "id": "c38f4d0b",
   "metadata": {},
   "outputs": [],
   "source": [
    "%run /home/jovyan/work/DAGS_Airflow/aiops_util.ipynb"
   ]
  },
  {
   "cell_type": "code",
   "execution_count": 5,
   "id": "bfab538c",
   "metadata": {},
   "outputs": [],
   "source": [
    "from utils.customer import FetchCustomer\n",
    "from utils.aiops_config import AiopsConfig\n",
    "from core.icm.modeling import ICMDeviceSelector, ProphetModelGenerator\n",
    "from core.icm.compute_recommendation_generation import ICMComputeRecommendation\n",
    "from core.icm.storage_recommendation_generation import ICMStorageRecommendation\n",
    "from core.icm.baseline_summary import BaselineSummary\n",
    "from core.icm.icm_ranking import execute_rank\n",
    "from core.icm.recommendation_helper import ICMRecommendationHelper\n",
    "from core.icm.device_details import ComputeDevices, StorageDevices"
   ]
  },
  {
   "cell_type": "code",
   "execution_count": 6,
   "id": "4593f0bf",
   "metadata": {},
   "outputs": [],
   "source": [
    "customer = os.environ['CUSTOMER']\n",
    "aiopsconfig = AiopsConfig(customer,2, icm_configurations,icm_modelDBconfig)"
   ]
  },
  {
   "cell_type": "code",
   "execution_count": 7,
   "id": "8502ccf5",
   "metadata": {},
   "outputs": [
    {
     "data": {
      "text/plain": [
       "{'globelife': {'device_selection_days': 100,\n",
       "  'predict_days': 30,\n",
       "  'last_month_days_count': 14,\n",
       "  'db_server_name': 'ucareserverprod.database.windows.net',\n",
       "  'db_port': 1433,\n",
       "  'database_name': 'ucare_dw_prod',\n",
       "  'service_check_format': False,\n",
       "  'multiple_tables': True,\n",
       "  'MDL_avaliable': False,\n",
       "  'CMDB_avaliable': True,\n",
       "  'allocation_available': False,\n",
       "  'allocation_as_usage': True,\n",
       "  'allocation_in bytes': False,\n",
       "  'allocation_in mb': True,\n",
       "  'allocation_in kb': False,\n",
       "  'icm_recommendation_automation': False,\n",
       "  'icm_recommendation_automation_choice': {'cpu_mem_rank': ['Downscale 1',\n",
       "    'Upscale 1'],\n",
       "   'disk_rank': ['Upscale 1']},\n",
       "  'icm_recommendation_automation_limit': 10,\n",
       "  'icm_kafka_topic': 'aiops.recommendation',\n",
       "  'icm_kafka_servers': '<ICM_KAFKA_SERVER_NAME>',\n",
       "  'cluster_flag': False,\n",
       "  'sr_query': \"select approval,number,dv_state,dv_cat_item,dv_context,opened_at from ods_sn_uni..sc_req_item (nolock) where dv_cat_item = 'AIOps'\",\n",
       "  'request_item_query': 'select m.sys_updated_on, m.dv_request_item, m.dv_sc_item_option, i.dv_item_option_new, \\n      i.sys_created_by, i.sys_updated_by, i.[order], i.value, i.dv_cart_item, i.dv_sc_cat_item_option, \\n      i.sys_created_on, i.sys_id FROM ods_sn_uni..sc_item_option i with (nolock) left outer join \\n      ods_sn_uni..sc_item_option_mtom m with (nolock) on(i.sys_id = m.sc_item_option) where dv_request_item in ({}) \\n      ',\n",
       "  'cr_query': \"SELECT Change.Change_number 'change_request_number', \\n    change.change_request_status 'ticket_status', close_code, Itil_transaction.Description 'description', \\n    change.Parent_Ticket 'SR_number'\\n    FROM [ODS].[dbo].Change, [ODS].[dbo].Itil_transaction \\n    where Change.Change_number=Itil_transaction.Transaction_id and \\n    Change.Datasourceid=Itil_transaction.Datasourceid and Parent_Ticket in ({})\\n    \",\n",
       "  'problem_query': 'select number,dv_u_change_id,dv_state  from ods_sn_uni..problem where dv_u_change_id in ({})',\n",
       "  'is_default_utilization_buckets': True,\n",
       "  'utilization_bucket_percentage': 0.5,\n",
       "  'utilization_baseline_percentage': 0.1,\n",
       "  'category_column_name': 'Operational Categorization Tier 1',\n",
       "  'recommendation_config': {'sql': {'buffer_percentage': {'disk': 20},\n",
       "    'min_cpu_core': 2,\n",
       "    'upscale_threshold': {'disk': 90},\n",
       "    'downscale_threshold': {'disk': 25}},\n",
       "   'default': {'buffer_percentage': {'disk': 20},\n",
       "    'min_cpu_core': 2,\n",
       "    'upscale_threshold': {'disk': 90},\n",
       "    'downscale_threshold': {'disk': 25}}},\n",
       "  'data_source_location': 'sql-server',\n",
       "  'blob_config': {},\n",
       "  'query_utilization': {'query_cpu_utilization': \"SELECT DATEADD(SECOND, cpu.timekey, CAST(CAST(cpu.datekey AS VARCHAR(8)) AS DATETIME)) as CHECK_TIME, deviceMaster.deviceName DEVICE, cpu.cpuParameterNumeric CPU_UTIL,  cpu.size cpu_size from dbo.FactCPU cpu with (nolock) , dbo.DimDevice device with (nolock) , dbo.DimDeviceMaster deviceMaster with (nolock) , dbo.Report_Parameter reportParameter with (nolock) where device.devicekey = cpu.devicekey and device.masterdevicekey = devicemaster.masterdevicekey and reportParameter.ParameterId = cpu.cpuParameterId  and datekey > CONVERT(INT, CONVERT(VARCHAR(30), CONVERT(DATETIME, '{}', 102), 112)) and cpu.accountSourceid in (24)\",\n",
       "   'query_mem_utilization': \"SELECT DATEADD(SECOND, memory.timekey, CAST(CAST(memory.datekey AS VARCHAR(8)) AS DATETIME)) as CHECK_TIME, deviceMaster.deviceName as DEVICE, memory.MemoryParameterNumeric MEM_UTIL , memory.size mem_size from dbo.FactMemory memory with (nolock) , dbo.DimDevice device with (nolock) , dbo.DimDeviceMaster deviceMaster with (nolock) , dbo.Report_Parameter reportParameter with (nolock) where device.devicekey = memory.devicekey and device.masterdevicekey = devicemaster.masterdevicekey and reportParameter.ParameterId = memory.memoryParameterId  and datekey > CONVERT(INT, CONVERT(VARCHAR(30), CONVERT(DATETIME, '{}', 102), 112)) and memory.accountSourceid in (24)\",\n",
       "   'query_disk_utilization': \"SELECT DATEADD(SECOND, disk.timekey, CAST(CAST(disk.datekey AS VARCHAR(8)) AS DATETIME)) as CHECK_TIME , deviceMaster.deviceName DEVICE,  disk.diskParameterNumeric DISK_UTIL,disk.diskParameterString as VOL_ID, disk.size disk_size from dbo.FactDisk disk with (nolock) , dbo.DimDevice device with (nolock) , dbo.DimDeviceMaster deviceMaster with (nolock) , dbo.Report_Parameter reportParameter with (nolock) where device.devicekey = disk.devicekey and device.masterdevicekey = devicemaster.masterdevicekey and reportParameter.ParameterId = disk.diskParameterId  and datekey > CONVERT(INT, CONVERT(VARCHAR(30), CONVERT(DATETIME, '{}', 102), 112)) and disk.accountSourceid in (24)\"},\n",
       "  'ods_db_server_name': '172.16.123.70',\n",
       "  'ods_db_port': 1433,\n",
       "  'ods_database_name': 'ODS',\n",
       "  'query_cmdb': \"SELECT AH.name as DEVICE,AH.virtual as VIRTUAL,AM.dv_location as LOCATION, AH.dv_classification as CLASSIFICATION, AH.dv_sys_class_name as TOWER, AH.hardware_status as HARDWARE_STATUS, AH.sys_id,(AH.cpu_core_count*AH.cpu_core_thread*AH.cpu_count) as CMDB_CPU_ALLOC, AH.ram as CMDB_MEM_ALLOC, AM.dns_domain as dns_domain,AM.fqdn AS DNS_HOST_NAME,AM.ip_address as IP_ADDRESS,AH.dv_u_vcenter as VCENTER FROM [ODS].[dbo].[asset_hardware] AH (nolock) inner join ODS.dbo.asset_master AM (nolock) ON AH.DataSourceID = AM.DataSourceID AND AH.sys_id = AM.sys_id where AH.datasourceid = 90 and AM.Removed_From_Source = 'N' and AH.customer_name in ('torchmark')\",\n",
       "  'query_incidents': \"Select dbo.Incident.Incident_Number as 'Incident Number', dbo.ITIL_Transaction.Urgency as 'Urgency', dbo.ITIL_Transaction.Impact as 'Impact', dbo.ITIL_Transaction.Priority as 'Priority', dbo.Incident.Reported_Source as 'Reported Source', dbo.ITIL_Transaction.Headline as 'Summary', dbo.ITIL_Transaction.Description as 'Detailed Description', Submitter.Remedy_Login_ID as 'Incident Management-Submitter.Person ID', Submitter.FULL_NAME as 'Submitter Name', Submitter.REGION as 'Submitter Site', Submitter.INTERNET_E_MAIL as 'Incident Management-Submitter.Internet E Mail', Submitter_Company.COMPANY as 'Company', dbo.ITIL_Transaction.Last_Modified_By as 'Last Modified By', dbo.Incident.Status as 'Status', dbo.Incident.Resolution as 'Resolution', dbo.ITIL_Transaction.Product_Categorization_Tier_1 as 'Product Categorization Tier 1', dbo.ITIL_Transaction.Categorization_Tier_1 as 'Operational Categorization Tier 1', dbo.ITIL_Transaction.Categorization_Tier_2 as 'Operational Categorization Tier 2', INCA_Supportgroup.SUPPORT_GROUP_NAME as 'Assignee Support Group', INCA_Supportgroup.SUPPORT_ORGANIZATION as 'Assignee Support Organization', INCA_Assignee.FULL_NAME as 'Assignee', dbo.Incident.GROUP_TRANSFERS as 'Group Transfers', Customer.Remedy_Login_ID as 'Incident Management-Customer.Person ID', Customer.Full_Name as 'Incident Management-Customer.Name', Customer.INTERNET_E_MAIL as 'Incident Management-Customer.Internet E Mail', Customer_Site.SITE as 'Incident Management-Customer.Site', Customer_Site.COUNTRY as 'Site Country', Customer.VIP as 'VIP', dbo.ITIL_Transaction.First_Call_Resolution as 'First Call Resolution', dbo.Incident.CI_Name as 'CI Name', dbo.Incident.CI as 'CI', dbo.Incident.Master_Ticket as 'Master Ticket', dbo.ITIL_Transaction.HelpDesk_Resolvable as 'Helpdesk Resolvable'\\t, dbo.Incident.Service_Type as 'Service Type', dbo.Incident_StatusHistory.RESOLVED_USER as 'Resolved User', dbo.Incident_StatusHistory.CLOSED_USER as 'Closed User', dbo.Incident.Reported_Date as 'Reported Date Time (Company Offset)', dbo.Incident.Last_Resolved_Date as 'Last Resolved Date Time (Company Offset)',  dbo.Incident.Closed_Date as 'Closed Date Time (Company Offset)', dbo.ITIL_Transaction.Last_Modified_Date as 'Last Modified Date Time (Company Offset)', dbo.Incident.Re_Opened_Date as 'Re-Opened Date Time (Company Offset)', INCA_Supportgroup.Business_Group as 'Business Group', INCA_Supportgroup.dept_group_hierarchy1 as 'Owner', Customer.UG_BUS_UNIT_SHORT as 'Business Unit', Customer.COST_CENTER_NAME as 'Org Unit', Customer.Cost_Center_Code as 'Division' FROM dbo.Incident_CustomerSpecific RIGHT OUTER JOIN dbo.Incident  with (nolock)  ON (dbo.Incident.Incident_ID=dbo.Incident_CustomerSpecific.Incident_ID and dbo.Incident.DataSourceID=dbo.Incident_CustomerSpecific.DataSourceID) LEFT OUTER JOIN dbo.ITIL_Transaction  with (nolock) ON (dbo.ITIL_Transaction.Transaction_ID=dbo.Incident.Transaction_ID and dbo.ITIL_Transaction.DataSourceID=dbo.Incident.DataSourceID) LEFT OUTER JOIN dbo.DataSource  with (nolock) ON (dbo.ITIL_Transaction.DataSourceID=dbo.DataSource.DataSourceID) LEFT OUTER JOIN dbo.SUPPORTGROUP  INCA_Supportgroup  with (nolock) ON (dbo.ITIL_Transaction.DataSourceID=INCA_Supportgroup.DataSourceID and dbo.ITIL_Transaction.ASSIGNED_GROUP_ID=INCA_Supportgroup.SUPPORT_GROUP_ID) LEFT OUTER JOIN dbo.PERSON  INCA_Assignee  with (nolock) ON (dbo.ITIL_Transaction.DataSourceID=INCA_Assignee.DataSourceID and dbo.ITIL_Transaction.Assignee_Login_ID=INCA_Assignee.PERSON_SK) LEFT OUTER JOIN dbo.PERSON  Customer  with (nolock) ON (dbo.ITIL_Transaction.DataSourceID=Customer.DataSourceID and dbo.ITIL_Transaction.PERSON_SK=Customer.PERSON_SK) LEFT OUTER JOIN dbo.COMPANY Customer_Company  with (nolock) ON (dbo.ITIL_Transaction.DataSourceID=Customer_Company.DataSourceID and dbo.ITIL_Transaction.COMPANY_SK=Customer_Company.COMPANY_SK) LEFT OUTER JOIN dbo.SITE  Customer_Site  with (nolock) ON ( Customer.DataSourceID=Customer_Site.DataSourceID and Customer.SITE_SK=Customer_Site.SITE_SK) LEFT OUTER JOIN dbo.PERSON  Submitter  with (nolock) ON (dbo.ITIL_Transaction.DataSourceID=Submitter.DataSourceID and dbo.ITIL_Transaction.Submitter_Person_SK=Submitter.PERSON_SK) LEFT OUTER JOIN dbo.COMPANY  Submitter_Company  with (nolock) ON (Submitter.DataSourceID=Submitter_Company.DataSourceID and Submitter.COMPANY_SK=Submitter_Company.COMPANY_SK) LEFT OUTER JOIN dbo.SITE  Submitter_site  with (nolock) ON (Submitter.DataSourceID=Submitter_site.DataSourceID and Submitter.SITE_SK=Submitter_site.SITE_SK) LEFT OUTER JOIN dbo.Incident_StatusHistory  with (nolock) ON (dbo.Incident.Transaction_ID=dbo.Incident_StatusHistory.Transaction_ID and dbo.Incident.DataSourceID=dbo.Incident_StatusHistory.DataSourceID) LEFT OUTER JOIN dbo.SUPPORTGROUP  INCO_SupportGroup  with (nolock) ON (dbo.ITIL_Transaction.DataSourceID=INCO_SupportGroup.DataSourceID and dbo.ITIL_Transaction.Owner_Group_ID=INCO_SupportGroup.SUPPORT_GROUP_ID) WHERE dbo.Incident.Status <> 'Cancelled' and dbo.Incident.Status  IN  ('Closed') and dbo.Incident.Reported_Date > '{}'  AND Customer_Company.DataSourceID = 90 AND Customer_Company.Company ='Torchmark'\",\n",
       "  'query_capacity_incidents': \"Select dbo.Incident.Incident_Number as 'Incident Number', dbo.ITIL_Transaction.Urgency as 'Urgency', dbo.ITIL_Transaction.Impact as 'Impact', dbo.ITIL_Transaction.Priority as 'Priority', dbo.Incident.Reported_Source as 'Reported Source', dbo.ITIL_Transaction.Headline as 'Summary', dbo.ITIL_Transaction.Description as 'Detailed Description', Submitter.Remedy_Login_ID as 'Incident Management-Submitter.Person ID', Submitter.FULL_NAME as 'Submitter Name', Submitter.REGION as 'Submitter Site', Submitter.INTERNET_E_MAIL as 'Incident Management-Submitter.Internet E Mail', Submitter_Company.COMPANY as 'Company', dbo.ITIL_Transaction.Last_Modified_By as 'Last Modified By', dbo.Incident.Status as 'Status', dbo.Incident.Resolution as 'Resolution', dbo.ITIL_Transaction.Product_Categorization_Tier_1 as 'Product Categorization Tier 1', dbo.ITIL_Transaction.Categorization_Tier_1 as 'Operational Categorization Tier 1', dbo.ITIL_Transaction.Categorization_Tier_2 as 'Operational Categorization Tier 2', INCA_Supportgroup.SUPPORT_GROUP_NAME as 'Assignee Support Group', INCA_Supportgroup.SUPPORT_ORGANIZATION as 'Assignee Support Organization', INCA_Assignee.FULL_NAME as 'Assignee', dbo.Incident.GROUP_TRANSFERS as 'Group Transfers', Customer.Remedy_Login_ID as 'Incident Management-Customer.Person ID', Customer.Full_Name as 'Incident Management-Customer.Name', Customer.INTERNET_E_MAIL as 'Incident Management-Customer.Internet E Mail', Customer_Site.SITE as 'Incident Management-Customer.Site', Customer_Site.COUNTRY as 'Site Country', Customer.VIP as 'VIP', dbo.ITIL_Transaction.First_Call_Resolution as 'First Call Resolution', dbo.Incident.CI_Name as 'CI Name', dbo.Incident.CI as 'CI', dbo.Incident.Master_Ticket as 'Master Ticket', dbo.ITIL_Transaction.HelpDesk_Resolvable as 'Helpdesk Resolvable'\\t, dbo.Incident.Service_Type as 'Service Type', dbo.Incident_StatusHistory.RESOLVED_USER as 'Resolved User', dbo.Incident_StatusHistory.CLOSED_USER as 'Closed User', dbo.Incident.Reported_Date as 'Reported Date Time (Company Offset)', dbo.Incident.Last_Resolved_Date as 'Last Resolved Date Time (Company Offset)',  dbo.Incident.Closed_Date as 'Closed Date Time (Company Offset)', dbo.ITIL_Transaction.Last_Modified_Date as 'Last Modified Date Time (Company Offset)', dbo.Incident.Re_Opened_Date as 'Re-Opened Date Time (Company Offset)', INCA_Supportgroup.Business_Group as 'Business Group', INCA_Supportgroup.dept_group_hierarchy1 as 'Owner', Customer.UG_BUS_UNIT_SHORT as 'Business Unit', Customer.COST_CENTER_NAME as 'Org Unit', Customer.Cost_Center_Code as 'Division' FROM dbo.Incident_CustomerSpecific RIGHT OUTER JOIN dbo.Incident  with (nolock)  ON (dbo.Incident.Incident_ID=dbo.Incident_CustomerSpecific.Incident_ID and dbo.Incident.DataSourceID=dbo.Incident_CustomerSpecific.DataSourceID) LEFT OUTER JOIN dbo.ITIL_Transaction  with (nolock) ON (dbo.ITIL_Transaction.Transaction_ID=dbo.Incident.Transaction_ID and dbo.ITIL_Transaction.DataSourceID=dbo.Incident.DataSourceID) LEFT OUTER JOIN dbo.DataSource  with (nolock) ON (dbo.ITIL_Transaction.DataSourceID=dbo.DataSource.DataSourceID) LEFT OUTER JOIN dbo.SUPPORTGROUP  INCA_Supportgroup  with (nolock) ON (dbo.ITIL_Transaction.DataSourceID=INCA_Supportgroup.DataSourceID and dbo.ITIL_Transaction.ASSIGNED_GROUP_ID=INCA_Supportgroup.SUPPORT_GROUP_ID) LEFT OUTER JOIN dbo.PERSON  INCA_Assignee  with (nolock) ON (dbo.ITIL_Transaction.DataSourceID=INCA_Assignee.DataSourceID and dbo.ITIL_Transaction.Assignee_Login_ID=INCA_Assignee.PERSON_SK) LEFT OUTER JOIN dbo.PERSON  Customer  with (nolock) ON (dbo.ITIL_Transaction.DataSourceID=Customer.DataSourceID and dbo.ITIL_Transaction.PERSON_SK=Customer.PERSON_SK) LEFT OUTER JOIN dbo.COMPANY Customer_Company  with (nolock) ON (dbo.ITIL_Transaction.DataSourceID=Customer_Company.DataSourceID and dbo.ITIL_Transaction.COMPANY_SK=Customer_Company.COMPANY_SK) LEFT OUTER JOIN dbo.SITE  Customer_Site  with (nolock) ON ( Customer.DataSourceID=Customer_Site.DataSourceID and Customer.SITE_SK=Customer_Site.SITE_SK) LEFT OUTER JOIN dbo.PERSON  Submitter  with (nolock) ON (dbo.ITIL_Transaction.DataSourceID=Submitter.DataSourceID and dbo.ITIL_Transaction.Submitter_Person_SK=Submitter.PERSON_SK) LEFT OUTER JOIN dbo.COMPANY  Submitter_Company  with (nolock) ON (Submitter.DataSourceID=Submitter_Company.DataSourceID and Submitter.COMPANY_SK=Submitter_Company.COMPANY_SK) LEFT OUTER JOIN dbo.SITE  Submitter_site  with (nolock) ON (Submitter.DataSourceID=Submitter_site.DataSourceID and Submitter.SITE_SK=Submitter_site.SITE_SK) LEFT OUTER JOIN dbo.Incident_StatusHistory  with (nolock) ON (dbo.Incident.Transaction_ID=dbo.Incident_StatusHistory.Transaction_ID and dbo.Incident.DataSourceID=dbo.Incident_StatusHistory.DataSourceID) LEFT OUTER JOIN dbo.SUPPORTGROUP  INCO_SupportGroup  with (nolock) ON (dbo.ITIL_Transaction.DataSourceID=INCO_SupportGroup.DataSourceID and dbo.ITIL_Transaction.Owner_Group_ID=INCO_SupportGroup.SUPPORT_GROUP_ID) WHERE dbo.Incident.Status <> 'Cancelled'  AND Customer_Company.DataSourceID = 90 AND Customer_Company.Company ='Torchmark'\"}}"
      ]
     },
     "execution_count": 7,
     "metadata": {},
     "output_type": "execute_result"
    }
   ],
   "source": [
    "icm_configurations"
   ]
  },
  {
   "cell_type": "code",
   "execution_count": 8,
   "id": "a8a4f770",
   "metadata": {
    "scrolled": true
   },
   "outputs": [
    {
     "name": "stdout",
     "output_type": "stream",
     "text": [
      "key:  service-principal-id\n",
      "secret:  b5c2e137-1f67-426c-871b-b67024e0d229\n",
      "key:  service-principal-secret\n",
      "secret:  ~d5MS_fL-N62CK666dQ~~QE1Ui323Mej-s\n",
      "key:  tenant-id\n",
      "secret:  8d894c2b-238f-490b-8dd1-d93898c5bf83\n",
      "key:  service-principal-id\n",
      "secret:  b5c2e137-1f67-426c-871b-b67024e0d229\n",
      "key:  service-principal-secret\n",
      "secret:  ~d5MS_fL-N62CK666dQ~~QE1Ui323Mej-s\n",
      "key:  tenant-id\n",
      "secret:  8d894c2b-238f-490b-8dd1-d93898c5bf83\n",
      "key:  service-principal-id\n",
      "secret:  b5c2e137-1f67-426c-871b-b67024e0d229\n",
      "key:  service-principal-secret\n",
      "secret:  ~d5MS_fL-N62CK666dQ~~QE1Ui323Mej-s\n",
      "key:  tenant-id\n",
      "secret:  8d894c2b-238f-490b-8dd1-d93898c5bf83\n",
      "key:  service-principal-id\n",
      "secret:  b5c2e137-1f67-426c-871b-b67024e0d229\n",
      "key:  service-principal-secret\n",
      "secret:  ~d5MS_fL-N62CK666dQ~~QE1Ui323Mej-s\n",
      "key:  tenant-id\n",
      "secret:  8d894c2b-238f-490b-8dd1-d93898c5bf83\n",
      "key:  service-principal-id\n",
      "secret:  b5c2e137-1f67-426c-871b-b67024e0d229\n",
      "key:  service-principal-secret\n",
      "secret:  ~d5MS_fL-N62CK666dQ~~QE1Ui323Mej-s\n",
      "key:  tenant-id\n",
      "secret:  8d894c2b-238f-490b-8dd1-d93898c5bf83\n",
      "key:  service-principal-id\n",
      "secret:  b5c2e137-1f67-426c-871b-b67024e0d229\n",
      "key:  service-principal-secret\n",
      "secret:  ~d5MS_fL-N62CK666dQ~~QE1Ui323Mej-s\n",
      "key:  tenant-id\n",
      "secret:  8d894c2b-238f-490b-8dd1-d93898c5bf83\n",
      "key:  service-principal-id\n",
      "secret:  b5c2e137-1f67-426c-871b-b67024e0d229\n",
      "key:  service-principal-secret\n",
      "secret:  ~d5MS_fL-N62CK666dQ~~QE1Ui323Mej-s\n",
      "key:  tenant-id\n",
      "secret:  8d894c2b-238f-490b-8dd1-d93898c5bf83\n",
      "key:  service-principal-id\n",
      "secret:  b5c2e137-1f67-426c-871b-b67024e0d229\n",
      "key:  service-principal-secret\n",
      "secret:  ~d5MS_fL-N62CK666dQ~~QE1Ui323Mej-s\n",
      "key:  tenant-id\n",
      "secret:  8d894c2b-238f-490b-8dd1-d93898c5bf83\n",
      "DataFrame[DEVICE: string, CHECK_TIME: timestamp, CHECK_TIME: timestamp]\n",
      "DataFrame[DEVICE: string, CHECK_TIME: timestamp, CHECK_TIME: timestamp]\n",
      "DataFrame[DEVICE: string, CHECK_TIME: timestamp, VOL_ID: string, CHECK_TIME: timestamp]\n"
     ]
    },
    {
     "ename": "KeyboardInterrupt",
     "evalue": "",
     "output_type": "error",
     "traceback": [
      "\u001b[0;31m---------------------------------------------------------------------------\u001b[0m",
      "\u001b[0;31mKeyboardInterrupt\u001b[0m                         Traceback (most recent call last)",
      "\u001b[0;32m<ipython-input-8-7fd8b1bae206>\u001b[0m in \u001b[0;36m<module>\u001b[0;34m\u001b[0m\n\u001b[1;32m      1\u001b[0m \u001b[0mdevice_selector\u001b[0m \u001b[0;34m=\u001b[0m \u001b[0mICMDeviceSelector\u001b[0m\u001b[0;34m(\u001b[0m\u001b[0maiopsconfig\u001b[0m\u001b[0;34m,\u001b[0m\u001b[0mspark\u001b[0m\u001b[0;34m,\u001b[0m \u001b[0;32mTrue\u001b[0m\u001b[0;34m)\u001b[0m\u001b[0;34m\u001b[0m\u001b[0;34m\u001b[0m\u001b[0m\n\u001b[0;32m----> 2\u001b[0;31m \u001b[0mcompute_utilization_df\u001b[0m\u001b[0;34m,\u001b[0m \u001b[0mcompute_devices\u001b[0m\u001b[0;34m,\u001b[0m \u001b[0mstorage_utilization_df\u001b[0m\u001b[0;34m,\u001b[0m \u001b[0mstorage_devices\u001b[0m\u001b[0;34m,\u001b[0m \u001b[0mci_exclusion_compute_list\u001b[0m\u001b[0;34m,\u001b[0m \u001b[0mci_exclusion_disk_list\u001b[0m\u001b[0;34m,\u001b[0m \u001b[0miops_throughput_df\u001b[0m \u001b[0;34m=\u001b[0m \u001b[0mdevice_selector\u001b[0m\u001b[0;34m.\u001b[0m\u001b[0mselect_icm_device\u001b[0m\u001b[0;34m(\u001b[0m\u001b[0;34m)\u001b[0m\u001b[0;34m\u001b[0m\u001b[0;34m\u001b[0m\u001b[0m\n\u001b[0m",
      "\u001b[0;32m/opt/conda/lib/python3.8/site-packages/core/icm/modeling.py\u001b[0m in \u001b[0;36mselect_icm_device\u001b[0;34m(self)\u001b[0m\n\u001b[1;32m    265\u001b[0m         \u001b[0mmem_devices\u001b[0m \u001b[0;34m=\u001b[0m \u001b[0mself\u001b[0m\u001b[0;34m.\u001b[0m\u001b[0m__device_selection\u001b[0m\u001b[0;34m(\u001b[0m\u001b[0mcompute_utilization_filtered\u001b[0m\u001b[0;34m,\u001b[0m \u001b[0;34m'MEM'\u001b[0m\u001b[0;34m,\u001b[0m \u001b[0mexclude_device_compute\u001b[0m\u001b[0;34m)\u001b[0m\u001b[0;34m\u001b[0m\u001b[0;34m\u001b[0m\u001b[0m\n\u001b[1;32m    266\u001b[0m         \u001b[0mcpu_mem_devices\u001b[0m \u001b[0;34m=\u001b[0m \u001b[0mset\u001b[0m\u001b[0;34m(\u001b[0m\u001b[0mcpu_devices\u001b[0m\u001b[0;34m)\u001b[0m\u001b[0;34m.\u001b[0m\u001b[0mintersection\u001b[0m\u001b[0;34m(\u001b[0m\u001b[0mset\u001b[0m\u001b[0;34m(\u001b[0m\u001b[0mmem_devices\u001b[0m\u001b[0;34m)\u001b[0m\u001b[0;34m)\u001b[0m\u001b[0;34m\u001b[0m\u001b[0;34m\u001b[0m\u001b[0m\n\u001b[0;32m--> 267\u001b[0;31m         \u001b[0mstorage_devices\u001b[0m \u001b[0;34m=\u001b[0m \u001b[0mself\u001b[0m\u001b[0;34m.\u001b[0m\u001b[0m__device_selection\u001b[0m\u001b[0;34m(\u001b[0m\u001b[0mstorage_utilization_df\u001b[0m\u001b[0;34m,\u001b[0m \u001b[0;34m'DISK'\u001b[0m\u001b[0;34m,\u001b[0m \u001b[0mexclude_device_disk\u001b[0m\u001b[0;34m)\u001b[0m\u001b[0;34m\u001b[0m\u001b[0;34m\u001b[0m\u001b[0m\n\u001b[0m\u001b[1;32m    268\u001b[0m \u001b[0;34m\u001b[0m\u001b[0m\n\u001b[1;32m    269\u001b[0m         \u001b[0mcompute_utilization_df\u001b[0m\u001b[0;34m.\u001b[0m\u001b[0mcreateOrReplaceTempView\u001b[0m\u001b[0;34m(\u001b[0m\u001b[0;34m'compute_utilization_df'\u001b[0m\u001b[0;34m)\u001b[0m\u001b[0;34m\u001b[0m\u001b[0;34m\u001b[0m\u001b[0m\n",
      "\u001b[0;32m/opt/conda/lib/python3.8/site-packages/core/icm/modeling.py\u001b[0m in \u001b[0;36m__device_selection\u001b[0;34m(self, dataframe, metric_type, ci_exclusion_list)\u001b[0m\n\u001b[1;32m     97\u001b[0m         \u001b[0;32mif\u001b[0m \u001b[0mmetric_type\u001b[0m \u001b[0;34m==\u001b[0m \u001b[0;34m'DISK'\u001b[0m\u001b[0;34m:\u001b[0m\u001b[0;34m\u001b[0m\u001b[0;34m\u001b[0m\u001b[0m\n\u001b[1;32m     98\u001b[0m           \u001b[0mfilter_column\u001b[0m \u001b[0;34m=\u001b[0m \u001b[0;34m\"DEV_VOL\"\u001b[0m\u001b[0;34m\u001b[0m\u001b[0;34m\u001b[0m\u001b[0m\n\u001b[0;32m---> 99\u001b[0;31m           \u001b[0mavailable_devices_list\u001b[0m \u001b[0;34m=\u001b[0m \u001b[0;34m[\u001b[0m\u001b[0mrow\u001b[0m\u001b[0;34m.\u001b[0m\u001b[0mDEV_VOL\u001b[0m \u001b[0;32mfor\u001b[0m \u001b[0mrow\u001b[0m \u001b[0;32min\u001b[0m \u001b[0mavailable_devices\u001b[0m\u001b[0;34m.\u001b[0m\u001b[0mselect\u001b[0m\u001b[0;34m(\u001b[0m\u001b[0mfilter_column\u001b[0m\u001b[0;34m)\u001b[0m\u001b[0;34m.\u001b[0m\u001b[0mdistinct\u001b[0m\u001b[0;34m(\u001b[0m\u001b[0;34m)\u001b[0m\u001b[0;34m.\u001b[0m\u001b[0mcollect\u001b[0m\u001b[0;34m(\u001b[0m\u001b[0;34m)\u001b[0m\u001b[0;34m]\u001b[0m\u001b[0;34m\u001b[0m\u001b[0;34m\u001b[0m\u001b[0m\n\u001b[0m\u001b[1;32m    100\u001b[0m           dataframe = dataframe[(dataframe.DEV_VOL.isin(available_devices_list)) & (dataframe[utilization_column] > 0)][\n\u001b[1;32m    101\u001b[0m             column]\n",
      "\u001b[0;32m/usr/local/spark/python/pyspark/sql/dataframe.py\u001b[0m in \u001b[0;36mcollect\u001b[0;34m(self)\u001b[0m\n\u001b[1;32m    675\u001b[0m         \"\"\"\n\u001b[1;32m    676\u001b[0m         \u001b[0;32mwith\u001b[0m \u001b[0mSCCallSiteSync\u001b[0m\u001b[0;34m(\u001b[0m\u001b[0mself\u001b[0m\u001b[0;34m.\u001b[0m\u001b[0m_sc\u001b[0m\u001b[0;34m)\u001b[0m \u001b[0;32mas\u001b[0m \u001b[0mcss\u001b[0m\u001b[0;34m:\u001b[0m\u001b[0;34m\u001b[0m\u001b[0;34m\u001b[0m\u001b[0m\n\u001b[0;32m--> 677\u001b[0;31m             \u001b[0msock_info\u001b[0m \u001b[0;34m=\u001b[0m \u001b[0mself\u001b[0m\u001b[0;34m.\u001b[0m\u001b[0m_jdf\u001b[0m\u001b[0;34m.\u001b[0m\u001b[0mcollectToPython\u001b[0m\u001b[0;34m(\u001b[0m\u001b[0;34m)\u001b[0m\u001b[0;34m\u001b[0m\u001b[0;34m\u001b[0m\u001b[0m\n\u001b[0m\u001b[1;32m    678\u001b[0m         \u001b[0;32mreturn\u001b[0m \u001b[0mlist\u001b[0m\u001b[0;34m(\u001b[0m\u001b[0m_load_from_socket\u001b[0m\u001b[0;34m(\u001b[0m\u001b[0msock_info\u001b[0m\u001b[0;34m,\u001b[0m \u001b[0mBatchedSerializer\u001b[0m\u001b[0;34m(\u001b[0m\u001b[0mPickleSerializer\u001b[0m\u001b[0;34m(\u001b[0m\u001b[0;34m)\u001b[0m\u001b[0;34m)\u001b[0m\u001b[0;34m)\u001b[0m\u001b[0;34m)\u001b[0m\u001b[0;34m\u001b[0m\u001b[0;34m\u001b[0m\u001b[0m\n\u001b[1;32m    679\u001b[0m \u001b[0;34m\u001b[0m\u001b[0m\n",
      "\u001b[0;32m/usr/local/spark/python/lib/py4j-0.10.9-src.zip/py4j/java_gateway.py\u001b[0m in \u001b[0;36m__call__\u001b[0;34m(self, *args)\u001b[0m\n\u001b[1;32m   1301\u001b[0m             \u001b[0mproto\u001b[0m\u001b[0;34m.\u001b[0m\u001b[0mEND_COMMAND_PART\u001b[0m\u001b[0;34m\u001b[0m\u001b[0;34m\u001b[0m\u001b[0m\n\u001b[1;32m   1302\u001b[0m \u001b[0;34m\u001b[0m\u001b[0m\n\u001b[0;32m-> 1303\u001b[0;31m         \u001b[0manswer\u001b[0m \u001b[0;34m=\u001b[0m \u001b[0mself\u001b[0m\u001b[0;34m.\u001b[0m\u001b[0mgateway_client\u001b[0m\u001b[0;34m.\u001b[0m\u001b[0msend_command\u001b[0m\u001b[0;34m(\u001b[0m\u001b[0mcommand\u001b[0m\u001b[0;34m)\u001b[0m\u001b[0;34m\u001b[0m\u001b[0;34m\u001b[0m\u001b[0m\n\u001b[0m\u001b[1;32m   1304\u001b[0m         return_value = get_return_value(\n\u001b[1;32m   1305\u001b[0m             answer, self.gateway_client, self.target_id, self.name)\n",
      "\u001b[0;32m/usr/local/spark/python/lib/py4j-0.10.9-src.zip/py4j/java_gateway.py\u001b[0m in \u001b[0;36msend_command\u001b[0;34m(self, command, retry, binary)\u001b[0m\n\u001b[1;32m   1031\u001b[0m         \u001b[0mconnection\u001b[0m \u001b[0;34m=\u001b[0m \u001b[0mself\u001b[0m\u001b[0;34m.\u001b[0m\u001b[0m_get_connection\u001b[0m\u001b[0;34m(\u001b[0m\u001b[0;34m)\u001b[0m\u001b[0;34m\u001b[0m\u001b[0;34m\u001b[0m\u001b[0m\n\u001b[1;32m   1032\u001b[0m         \u001b[0;32mtry\u001b[0m\u001b[0;34m:\u001b[0m\u001b[0;34m\u001b[0m\u001b[0;34m\u001b[0m\u001b[0m\n\u001b[0;32m-> 1033\u001b[0;31m             \u001b[0mresponse\u001b[0m \u001b[0;34m=\u001b[0m \u001b[0mconnection\u001b[0m\u001b[0;34m.\u001b[0m\u001b[0msend_command\u001b[0m\u001b[0;34m(\u001b[0m\u001b[0mcommand\u001b[0m\u001b[0;34m)\u001b[0m\u001b[0;34m\u001b[0m\u001b[0;34m\u001b[0m\u001b[0m\n\u001b[0m\u001b[1;32m   1034\u001b[0m             \u001b[0;32mif\u001b[0m \u001b[0mbinary\u001b[0m\u001b[0;34m:\u001b[0m\u001b[0;34m\u001b[0m\u001b[0;34m\u001b[0m\u001b[0m\n\u001b[1;32m   1035\u001b[0m                 \u001b[0;32mreturn\u001b[0m \u001b[0mresponse\u001b[0m\u001b[0;34m,\u001b[0m \u001b[0mself\u001b[0m\u001b[0;34m.\u001b[0m\u001b[0m_create_connection_guard\u001b[0m\u001b[0;34m(\u001b[0m\u001b[0mconnection\u001b[0m\u001b[0;34m)\u001b[0m\u001b[0;34m\u001b[0m\u001b[0;34m\u001b[0m\u001b[0m\n",
      "\u001b[0;32m/usr/local/spark/python/lib/py4j-0.10.9-src.zip/py4j/java_gateway.py\u001b[0m in \u001b[0;36msend_command\u001b[0;34m(self, command)\u001b[0m\n\u001b[1;32m   1198\u001b[0m \u001b[0;34m\u001b[0m\u001b[0m\n\u001b[1;32m   1199\u001b[0m         \u001b[0;32mtry\u001b[0m\u001b[0;34m:\u001b[0m\u001b[0;34m\u001b[0m\u001b[0;34m\u001b[0m\u001b[0m\n\u001b[0;32m-> 1200\u001b[0;31m             \u001b[0manswer\u001b[0m \u001b[0;34m=\u001b[0m \u001b[0msmart_decode\u001b[0m\u001b[0;34m(\u001b[0m\u001b[0mself\u001b[0m\u001b[0;34m.\u001b[0m\u001b[0mstream\u001b[0m\u001b[0;34m.\u001b[0m\u001b[0mreadline\u001b[0m\u001b[0;34m(\u001b[0m\u001b[0;34m)\u001b[0m\u001b[0;34m[\u001b[0m\u001b[0;34m:\u001b[0m\u001b[0;34m-\u001b[0m\u001b[0;36m1\u001b[0m\u001b[0;34m]\u001b[0m\u001b[0;34m)\u001b[0m\u001b[0;34m\u001b[0m\u001b[0;34m\u001b[0m\u001b[0m\n\u001b[0m\u001b[1;32m   1201\u001b[0m             \u001b[0mlogger\u001b[0m\u001b[0;34m.\u001b[0m\u001b[0mdebug\u001b[0m\u001b[0;34m(\u001b[0m\u001b[0;34m\"Answer received: {0}\"\u001b[0m\u001b[0;34m.\u001b[0m\u001b[0mformat\u001b[0m\u001b[0;34m(\u001b[0m\u001b[0manswer\u001b[0m\u001b[0;34m)\u001b[0m\u001b[0;34m)\u001b[0m\u001b[0;34m\u001b[0m\u001b[0;34m\u001b[0m\u001b[0m\n\u001b[1;32m   1202\u001b[0m             \u001b[0;32mif\u001b[0m \u001b[0manswer\u001b[0m\u001b[0;34m.\u001b[0m\u001b[0mstartswith\u001b[0m\u001b[0;34m(\u001b[0m\u001b[0mproto\u001b[0m\u001b[0;34m.\u001b[0m\u001b[0mRETURN_MESSAGE\u001b[0m\u001b[0;34m)\u001b[0m\u001b[0;34m:\u001b[0m\u001b[0;34m\u001b[0m\u001b[0;34m\u001b[0m\u001b[0m\n",
      "\u001b[0;32m/opt/conda/lib/python3.8/socket.py\u001b[0m in \u001b[0;36mreadinto\u001b[0;34m(self, b)\u001b[0m\n\u001b[1;32m    667\u001b[0m         \u001b[0;32mwhile\u001b[0m \u001b[0;32mTrue\u001b[0m\u001b[0;34m:\u001b[0m\u001b[0;34m\u001b[0m\u001b[0;34m\u001b[0m\u001b[0m\n\u001b[1;32m    668\u001b[0m             \u001b[0;32mtry\u001b[0m\u001b[0;34m:\u001b[0m\u001b[0;34m\u001b[0m\u001b[0;34m\u001b[0m\u001b[0m\n\u001b[0;32m--> 669\u001b[0;31m                 \u001b[0;32mreturn\u001b[0m \u001b[0mself\u001b[0m\u001b[0;34m.\u001b[0m\u001b[0m_sock\u001b[0m\u001b[0;34m.\u001b[0m\u001b[0mrecv_into\u001b[0m\u001b[0;34m(\u001b[0m\u001b[0mb\u001b[0m\u001b[0;34m)\u001b[0m\u001b[0;34m\u001b[0m\u001b[0;34m\u001b[0m\u001b[0m\n\u001b[0m\u001b[1;32m    670\u001b[0m             \u001b[0;32mexcept\u001b[0m \u001b[0mtimeout\u001b[0m\u001b[0;34m:\u001b[0m\u001b[0;34m\u001b[0m\u001b[0;34m\u001b[0m\u001b[0m\n\u001b[1;32m    671\u001b[0m                 \u001b[0mself\u001b[0m\u001b[0;34m.\u001b[0m\u001b[0m_timeout_occurred\u001b[0m \u001b[0;34m=\u001b[0m \u001b[0;32mTrue\u001b[0m\u001b[0;34m\u001b[0m\u001b[0;34m\u001b[0m\u001b[0m\n",
      "\u001b[0;31mKeyboardInterrupt\u001b[0m: "
     ]
    }
   ],
   "source": [
    "device_selector = ICMDeviceSelector(aiopsconfig,spark, True)\n",
    "compute_utilization_df, compute_devices, storage_utilization_df, storage_devices, ci_exclusion_compute_list, ci_exclusion_disk_list, iops_throughput_df = device_selector.select_icm_device()"
   ]
  },
  {
   "cell_type": "code",
   "execution_count": null,
   "id": "c09cd1c1",
   "metadata": {},
   "outputs": [],
   "source": [
    "print(compute_devices)"
   ]
  },
  {
   "cell_type": "code",
   "execution_count": 61,
   "id": "90632478",
   "metadata": {},
   "outputs": [
    {
     "name": "stdout",
     "output_type": "stream",
     "text": [
      "key:  service-principal-id\n",
      "secret:  b5c2e137-1f67-426c-871b-b67024e0d229\n",
      "key:  service-principal-secret\n",
      "secret:  ~d5MS_fL-N62CK666dQ~~QE1Ui323Mej-s\n",
      "key:  tenant-id\n",
      "secret:  8d894c2b-238f-490b-8dd1-d93898c5bf83\n",
      "key:  service-principal-id\n",
      "secret:  b5c2e137-1f67-426c-871b-b67024e0d229\n",
      "key:  service-principal-secret\n",
      "secret:  ~d5MS_fL-N62CK666dQ~~QE1Ui323Mej-s\n",
      "key:  tenant-id\n",
      "secret:  8d894c2b-238f-490b-8dd1-d93898c5bf83\n",
      "key:  service-principal-id\n",
      "secret:  b5c2e137-1f67-426c-871b-b67024e0d229\n",
      "key:  service-principal-secret\n",
      "secret:  ~d5MS_fL-N62CK666dQ~~QE1Ui323Mej-s\n",
      "key:  tenant-id\n",
      "secret:  8d894c2b-238f-490b-8dd1-d93898c5bf83\n"
     ]
    },
    {
     "name": "stderr",
     "output_type": "stream",
     "text": [
      "/usr/local/spark/python/pyspark/sql/pandas/group_ops.py:81: UserWarning: It is preferred to use 'applyInPandas' over this API. This API will be deprecated in the future releases. See SPARK-28264 for more details.\n",
      "  warnings.warn(\n"
     ]
    },
    {
     "name": "stdout",
     "output_type": "stream",
     "text": [
      "key:  service-principal-id\n",
      "secret:  b5c2e137-1f67-426c-871b-b67024e0d229\n",
      "key:  service-principal-secret\n",
      "secret:  ~d5MS_fL-N62CK666dQ~~QE1Ui323Mej-s\n",
      "key:  tenant-id\n",
      "secret:  8d894c2b-238f-490b-8dd1-d93898c5bf83\n",
      "key:  service-principal-id\n",
      "secret:  b5c2e137-1f67-426c-871b-b67024e0d229\n",
      "key:  service-principal-secret\n",
      "secret:  ~d5MS_fL-N62CK666dQ~~QE1Ui323Mej-s\n",
      "key:  tenant-id\n",
      "secret:  8d894c2b-238f-490b-8dd1-d93898c5bf83\n",
      "key:  service-principal-id\n",
      "secret:  b5c2e137-1f67-426c-871b-b67024e0d229\n",
      "key:  service-principal-secret\n",
      "secret:  ~d5MS_fL-N62CK666dQ~~QE1Ui323Mej-s\n",
      "key:  tenant-id\n",
      "secret:  8d894c2b-238f-490b-8dd1-d93898c5bf83\n",
      "key:  service-principal-id\n",
      "secret:  b5c2e137-1f67-426c-871b-b67024e0d229\n",
      "key:  service-principal-secret\n",
      "secret:  ~d5MS_fL-N62CK666dQ~~QE1Ui323Mej-s\n",
      "key:  tenant-id\n",
      "secret:  8d894c2b-238f-490b-8dd1-d93898c5bf83\n",
      "key:  service-principal-id\n",
      "secret:  b5c2e137-1f67-426c-871b-b67024e0d229\n",
      "key:  service-principal-secret\n",
      "secret:  ~d5MS_fL-N62CK666dQ~~QE1Ui323Mej-s\n",
      "key:  tenant-id\n",
      "secret:  8d894c2b-238f-490b-8dd1-d93898c5bf83\n"
     ]
    }
   ],
   "source": [
    "model_generator = ProphetModelGenerator(aiopsconfig,spark)\n",
    "cpu_finaldf = model_generator.generate_forecast('CPU',compute_utilization_df,compute_devices,True)\n",
    "mem_finaldf = model_generator.generate_forecast('MEM',compute_utilization_df,compute_devices,True)\n",
    "disk_finaldf = model_generator.generate_forecast('DISK',storage_utilization_df,storage_devices,True)"
   ]
  },
  {
   "cell_type": "code",
   "execution_count": 62,
   "id": "d7891815",
   "metadata": {},
   "outputs": [
    {
     "name": "stdout",
     "output_type": "stream",
     "text": [
      "key:  service-principal-id\n",
      "secret:  b5c2e137-1f67-426c-871b-b67024e0d229\n",
      "key:  service-principal-secret\n",
      "secret:  ~d5MS_fL-N62CK666dQ~~QE1Ui323Mej-s\n",
      "key:  tenant-id\n",
      "secret:  8d894c2b-238f-490b-8dd1-d93898c5bf83\n",
      "key:  service-principal-id\n",
      "secret:  b5c2e137-1f67-426c-871b-b67024e0d229\n",
      "key:  service-principal-secret\n",
      "secret:  ~d5MS_fL-N62CK666dQ~~QE1Ui323Mej-s\n",
      "key:  tenant-id\n",
      "secret:  8d894c2b-238f-490b-8dd1-d93898c5bf83\n",
      "key:  service-principal-id\n",
      "secret:  b5c2e137-1f67-426c-871b-b67024e0d229\n",
      "key:  service-principal-secret\n",
      "secret:  ~d5MS_fL-N62CK666dQ~~QE1Ui323Mej-s\n",
      "key:  tenant-id\n",
      "secret:  8d894c2b-238f-490b-8dd1-d93898c5bf83\n",
      "key:  service-principal-id\n",
      "secret:  b5c2e137-1f67-426c-871b-b67024e0d229\n",
      "key:  service-principal-secret\n",
      "secret:  ~d5MS_fL-N62CK666dQ~~QE1Ui323Mej-s\n",
      "key:  tenant-id\n",
      "secret:  8d894c2b-238f-490b-8dd1-d93898c5bf83\n"
     ]
    }
   ],
   "source": [
    "# MAGIC %md ###Compute Recommendation Generation\n",
    "\n",
    "# COMMAND ----------\n",
    "from core.icm.compute_recommendation_generation import ICMComputeRecommendation\n",
    "compute_recommendation = ICMComputeRecommendation(cpu_finaldf, mem_finaldf, compute_utilization_df, aiopsconfig, spark, True)\n",
    "compute_recommendation_df = compute_recommendation.generate_recommendation()"
   ]
  },
  {
   "cell_type": "code",
   "execution_count": null,
   "id": "5063ea67",
   "metadata": {},
   "outputs": [],
   "source": [
    "# MAGIC %md ###Storage Recommendation Generation\n",
    "\n",
    "# COMMAND ----------\n",
    "from core.icm.storage_recommendation_generation import ICMStorageRecommendation\n",
    "storage_recommendation = ICMStorageRecommendation(disk_finaldf, storage_utilization_df, aiopsconfig, spark,iops_throughput_df)\n",
    "storage_recommendation_df = storage_recommendation.generate_recommendation()"
   ]
  },
  {
   "cell_type": "code",
   "execution_count": null,
   "id": "b07724f0",
   "metadata": {},
   "outputs": [],
   "source": [
    "# MAGIC %md ###Baseline Summary\n",
    "\n",
    "# COMMAND ----------\n",
    "from core.icm.baseline_summary import BaselineSummary\n",
    "baseline_summary = BaselineSummary(aiopsconfig,spark)\n",
    "baseline_summary.summarize_baseline(compute_recommendation_df, spark.createDataFrame(storage_recommendation_df))"
   ]
  },
  {
   "cell_type": "code",
   "execution_count": null,
   "id": "a474eee7",
   "metadata": {},
   "outputs": [],
   "source": [
    "# MAGIC %md ###Ranking\n",
    "\n",
    "# COMMAND ----------\n",
    "from core.icm.icm_ranking import execute_rank\n",
    "compute_recommendation_df, compute_rank_range_df = execute_rank(aiopsconfig, spark, compute_recommendation_df.toPandas(), is_compute=True, primary_recom=True)\n"
   ]
  },
  {
   "cell_type": "code",
   "execution_count": 29,
   "id": "93102b7b",
   "metadata": {},
   "outputs": [],
   "source": [
    "storage_recommendation_df, storage_rank_range_df = execute_rank(aiopsconfig, spark, storage_recommendation_df, is_compute=False)"
   ]
  },
  {
   "cell_type": "code",
   "execution_count": 71,
   "id": "2eed65b2",
   "metadata": {},
   "outputs": [],
   "source": [
    "# MAGIC %md ###Master recommendation table\n",
    "\n",
    "# COMMAND ----------\n",
    "\n",
    "#primary_recommendation = true by default, for secondary change to False \n",
    "\n",
    "recommendation_helper = ICMRecommendationHelper(aiopsconfig,spark)\n",
    "recommendation_helper.form_master_recommendations(compute_recommendation_df,storage_recommendation_df, True)\n"
   ]
  },
  {
   "cell_type": "code",
   "execution_count": 72,
   "id": "41a704be",
   "metadata": {},
   "outputs": [],
   "source": [
    "# MAGIC %md ###Sufficient & In-sufficient Device details\n",
    "\n",
    "# COMMAND ----------\n",
    "\n",
    "#primary_recommendation = true by default, for secondary change to False \n",
    "compute_device_details = ComputeDevices(aiopsconfig, spark, True)\n",
    "compute_device_details.get_sufficient_devices(compute_utilization_df,compute_devices)\n",
    "compute_device_details.get_insufficient_devices(compute_utilization_df,compute_devices,ci_exclusion_compute_list)"
   ]
  },
  {
   "cell_type": "code",
   "execution_count": 73,
   "id": "2b2049c4",
   "metadata": {},
   "outputs": [],
   "source": [
    "# COMMAND ----------\n",
    "\n",
    "#storage will call once\n",
    "\n",
    "storage_device_details = StorageDevices(aiopsconfig,spark)\n",
    "storage_device_details.get_sufficient_devices(storage_utilization_df,storage_devices)\n",
    "storage_device_details.get_insufficient_devices(storage_utilization_df,storage_devices,ci_exclusion_disk_list)"
   ]
  },
  {
   "cell_type": "code",
   "execution_count": 74,
   "id": "72ccb529",
   "metadata": {},
   "outputs": [],
   "source": [
    "# MAGIC %md ###Device Selection (for secondary metric)\n",
    "\n",
    "# COMMAND ----------\n",
    "\n",
    "#primary_recommendation = true by default, for secondary change to False \n",
    "\n",
    "device_selector = ICMDeviceSelector(aiopsconfig,spark, False)\n",
    "compute_utilization_df, compute_devices, storage_utilization_df, storage_devices, ci_exclusion_compute_list, ci_exclusion_disk_list, iops_throughput_df = device_selector.select_icm_device()"
   ]
  },
  {
   "cell_type": "code",
   "execution_count": null,
   "id": "fc055a4d",
   "metadata": {},
   "outputs": [],
   "source": [
    "# MAGIC %md ###Model Generation (for secondary metric)\n",
    "\n",
    "# COMMAND ----------\n",
    "\n",
    "#primary_recommendation = true by default, for secondary change to False \n",
    "\n",
    "model_generator = ProphetModelGenerator(aiopsconfig,spark)\n",
    "cpu_finaldf = model_generator.generate_forecast('CPU',compute_utilization_df,compute_devices,False)\n",
    "mem_finaldf = model_generator.generate_forecast('MEM',compute_utilization_df,compute_devices,False)"
   ]
  },
  {
   "cell_type": "code",
   "execution_count": null,
   "id": "5286be67",
   "metadata": {},
   "outputs": [],
   "source": [
    "# MAGIC %md ###Compute Recommendation Generation (for secondary metric)\n",
    "\n",
    "# COMMAND ----------\n",
    "\n",
    "#primary_recommendation = true by default, for secondary change to False \n",
    "\n",
    "compute_recommendation = ICMComputeRecommendation(cpu_finaldf, mem_finaldf, compute_utilization_df, aiopsconfig, spark, False)\n",
    "compute_recommendation_df = compute_recommendation.generate_recommendation()"
   ]
  },
  {
   "cell_type": "code",
   "execution_count": null,
   "id": "9d72acd6",
   "metadata": {},
   "outputs": [],
   "source": [
    "# MAGIC %md ###Ranking (for secondary metric)\n",
    "\n",
    "# COMMAND ----------\n",
    "\n",
    "#primary_recommendation = true by default, for secondary change to False \n",
    "\n",
    "compute_recommendation_df, compute_rank_range_df = execute_rank(aiopsconfig, spark, compute_recommendation_df.toPandas(), is_compute=True, primary_recom=False)\n"
   ]
  },
  {
   "cell_type": "code",
   "execution_count": null,
   "id": "a7d2e8d8",
   "metadata": {},
   "outputs": [],
   "source": [
    "# MAGIC %md ###Master recommendation table (for secondary metric)\n",
    "\n",
    "# COMMAND ----------\n",
    "\n",
    "#primary_recommendation = true by default, for secondary change to False \n",
    "\n",
    "recommendation_helper = ICMRecommendationHelper(aiopsconfig,spark)\n",
    "recommendation_helper.form_master_recommendations(compute_recommendation_df,storage_recommendation_df, False)"
   ]
  },
  {
   "cell_type": "code",
   "execution_count": null,
   "id": "3a48f770",
   "metadata": {},
   "outputs": [],
   "source": [
    "# MAGIC %md ###Master recommendation table (for secondary metric)\n",
    "\n",
    "# COMMAND ----------\n",
    "\n",
    "#primary_recommendation = true by default, for secondary change to False \n",
    "\n",
    "compute_device_details = ComputeDevices(aiopsconfig, spark, False)\n",
    "compute_device_details.get_sufficient_devices(compute_utilization_df,compute_devices)\n",
    "compute_device_details.get_insufficient_devices(compute_utilization_df,compute_devices,ci_exclusion_compute_list)"
   ]
  },
  {
   "cell_type": "code",
   "execution_count": 15,
   "id": "57fb55e9",
   "metadata": {},
   "outputs": [],
   "source": [
    "spark.stop()\n",
    "#spark"
   ]
  },
  {
   "cell_type": "code",
   "execution_count": 10,
   "id": "978aa9c3",
   "metadata": {},
   "outputs": [
    {
     "ename": "AttributeError",
     "evalue": "'NoneType' object has no attribute 'sc'",
     "output_type": "error",
     "traceback": [
      "\u001b[0;31m---------------------------------------------------------------------------\u001b[0m",
      "\u001b[0;31mAttributeError\u001b[0m                            Traceback (most recent call last)",
      "\u001b[0;32m/opt/conda/lib/python3.8/site-packages/IPython/core/formatters.py\u001b[0m in \u001b[0;36m__call__\u001b[0;34m(self, obj)\u001b[0m\n\u001b[1;32m    343\u001b[0m             \u001b[0mmethod\u001b[0m \u001b[0;34m=\u001b[0m \u001b[0mget_real_method\u001b[0m\u001b[0;34m(\u001b[0m\u001b[0mobj\u001b[0m\u001b[0;34m,\u001b[0m \u001b[0mself\u001b[0m\u001b[0;34m.\u001b[0m\u001b[0mprint_method\u001b[0m\u001b[0;34m)\u001b[0m\u001b[0;34m\u001b[0m\u001b[0;34m\u001b[0m\u001b[0m\n\u001b[1;32m    344\u001b[0m             \u001b[0;32mif\u001b[0m \u001b[0mmethod\u001b[0m \u001b[0;32mis\u001b[0m \u001b[0;32mnot\u001b[0m \u001b[0;32mNone\u001b[0m\u001b[0;34m:\u001b[0m\u001b[0;34m\u001b[0m\u001b[0;34m\u001b[0m\u001b[0m\n\u001b[0;32m--> 345\u001b[0;31m                 \u001b[0;32mreturn\u001b[0m \u001b[0mmethod\u001b[0m\u001b[0;34m(\u001b[0m\u001b[0;34m)\u001b[0m\u001b[0;34m\u001b[0m\u001b[0;34m\u001b[0m\u001b[0m\n\u001b[0m\u001b[1;32m    346\u001b[0m             \u001b[0;32mreturn\u001b[0m \u001b[0;32mNone\u001b[0m\u001b[0;34m\u001b[0m\u001b[0;34m\u001b[0m\u001b[0m\n\u001b[1;32m    347\u001b[0m         \u001b[0;32melse\u001b[0m\u001b[0;34m:\u001b[0m\u001b[0;34m\u001b[0m\u001b[0;34m\u001b[0m\u001b[0m\n",
      "\u001b[0;32m/usr/local/spark/python/pyspark/sql/session.py\u001b[0m in \u001b[0;36m_repr_html_\u001b[0;34m(self)\u001b[0m\n\u001b[1;32m    275\u001b[0m         \"\"\".format(\n\u001b[1;32m    276\u001b[0m             \u001b[0mcatalogImplementation\u001b[0m\u001b[0;34m=\u001b[0m\u001b[0mself\u001b[0m\u001b[0;34m.\u001b[0m\u001b[0mconf\u001b[0m\u001b[0;34m.\u001b[0m\u001b[0mget\u001b[0m\u001b[0;34m(\u001b[0m\u001b[0;34m\"spark.sql.catalogImplementation\"\u001b[0m\u001b[0;34m)\u001b[0m\u001b[0;34m,\u001b[0m\u001b[0;34m\u001b[0m\u001b[0;34m\u001b[0m\u001b[0m\n\u001b[0;32m--> 277\u001b[0;31m             \u001b[0msc_HTML\u001b[0m\u001b[0;34m=\u001b[0m\u001b[0mself\u001b[0m\u001b[0;34m.\u001b[0m\u001b[0msparkContext\u001b[0m\u001b[0;34m.\u001b[0m\u001b[0m_repr_html_\u001b[0m\u001b[0;34m(\u001b[0m\u001b[0;34m)\u001b[0m\u001b[0;34m\u001b[0m\u001b[0;34m\u001b[0m\u001b[0m\n\u001b[0m\u001b[1;32m    278\u001b[0m         )\n\u001b[1;32m    279\u001b[0m \u001b[0;34m\u001b[0m\u001b[0m\n",
      "\u001b[0;32m/usr/local/spark/python/pyspark/context.py\u001b[0m in \u001b[0;36m_repr_html_\u001b[0;34m(self)\u001b[0m\n\u001b[1;32m    296\u001b[0m \u001b[0;34m\u001b[0m\u001b[0m\n\u001b[1;32m    297\u001b[0m     \u001b[0;32mdef\u001b[0m \u001b[0m_repr_html_\u001b[0m\u001b[0;34m(\u001b[0m\u001b[0mself\u001b[0m\u001b[0;34m)\u001b[0m\u001b[0;34m:\u001b[0m\u001b[0;34m\u001b[0m\u001b[0;34m\u001b[0m\u001b[0m\n\u001b[0;32m--> 298\u001b[0;31m         return \"\"\"\n\u001b[0m\u001b[1;32m    299\u001b[0m         \u001b[0;34m<\u001b[0m\u001b[0mdiv\u001b[0m\u001b[0;34m>\u001b[0m\u001b[0;34m\u001b[0m\u001b[0;34m\u001b[0m\u001b[0m\n\u001b[1;32m    300\u001b[0m             \u001b[0;34m<\u001b[0m\u001b[0mp\u001b[0m\u001b[0;34m>\u001b[0m\u001b[0;34m<\u001b[0m\u001b[0mb\u001b[0m\u001b[0;34m>\u001b[0m\u001b[0mSparkContext\u001b[0m\u001b[0;34m<\u001b[0m\u001b[0;34m/\u001b[0m\u001b[0mb\u001b[0m\u001b[0;34m>\u001b[0m\u001b[0;34m<\u001b[0m\u001b[0;34m/\u001b[0m\u001b[0mp\u001b[0m\u001b[0;34m>\u001b[0m\u001b[0;34m\u001b[0m\u001b[0;34m\u001b[0m\u001b[0m\n",
      "\u001b[0;32m/usr/local/spark/python/pyspark/context.py\u001b[0m in \u001b[0;36muiWebUrl\u001b[0;34m(self)\u001b[0m\n\u001b[1;32m    427\u001b[0m     \u001b[0;32mdef\u001b[0m \u001b[0muiWebUrl\u001b[0m\u001b[0;34m(\u001b[0m\u001b[0mself\u001b[0m\u001b[0;34m)\u001b[0m\u001b[0;34m:\u001b[0m\u001b[0;34m\u001b[0m\u001b[0;34m\u001b[0m\u001b[0m\n\u001b[1;32m    428\u001b[0m         \u001b[0;34m\"\"\"Return the URL of the SparkUI instance started by this SparkContext\"\"\"\u001b[0m\u001b[0;34m\u001b[0m\u001b[0;34m\u001b[0m\u001b[0m\n\u001b[0;32m--> 429\u001b[0;31m         \u001b[0;32mreturn\u001b[0m \u001b[0mself\u001b[0m\u001b[0;34m.\u001b[0m\u001b[0m_jsc\u001b[0m\u001b[0;34m.\u001b[0m\u001b[0msc\u001b[0m\u001b[0;34m(\u001b[0m\u001b[0;34m)\u001b[0m\u001b[0;34m.\u001b[0m\u001b[0muiWebUrl\u001b[0m\u001b[0;34m(\u001b[0m\u001b[0;34m)\u001b[0m\u001b[0;34m.\u001b[0m\u001b[0mget\u001b[0m\u001b[0;34m(\u001b[0m\u001b[0;34m)\u001b[0m\u001b[0;34m\u001b[0m\u001b[0;34m\u001b[0m\u001b[0m\n\u001b[0m\u001b[1;32m    430\u001b[0m \u001b[0;34m\u001b[0m\u001b[0m\n\u001b[1;32m    431\u001b[0m     \u001b[0;34m@\u001b[0m\u001b[0mproperty\u001b[0m\u001b[0;34m\u001b[0m\u001b[0;34m\u001b[0m\u001b[0m\n",
      "\u001b[0;31mAttributeError\u001b[0m: 'NoneType' object has no attribute 'sc'"
     ]
    },
    {
     "data": {
      "text/plain": [
       "<pyspark.sql.session.SparkSession at 0x7f590df28070>"
      ]
     },
     "execution_count": 10,
     "metadata": {},
     "output_type": "execute_result"
    }
   ],
   "source": [
    "spark"
   ]
  },
  {
   "cell_type": "code",
   "execution_count": null,
   "id": "ac932452",
   "metadata": {},
   "outputs": [],
   "source": []
  }
 ],
 "metadata": {
  "kernelspec": {
   "display_name": "Python 3",
   "language": "python",
   "name": "python3"
  },
  "language_info": {
   "codemirror_mode": {
    "name": "ipython",
    "version": 3
   },
   "file_extension": ".py",
   "mimetype": "text/x-python",
   "name": "python",
   "nbconvert_exporter": "python",
   "pygments_lexer": "ipython3",
   "version": "3.8.3"
  }
 },
 "nbformat": 4,
 "nbformat_minor": 5
}
