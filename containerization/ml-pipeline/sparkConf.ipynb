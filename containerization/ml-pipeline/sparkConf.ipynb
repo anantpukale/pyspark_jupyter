{
 "cells": [
  {
   "cell_type": "code",
   "execution_count": 3,
   "id": "2161f9eb",
   "metadata": {},
   "outputs": [
    {
     "name": "stdout",
     "output_type": "stream",
     "text": [
      "/BaAO0Ydf2KSnDIOIAcBwuFF6ET+MbyTq+sp3KdEP36kG5o4mkCnsMozDxgK7oHotVNShlZsG3l/qH7k4LWx7A==\n"
     ]
    }
   ],
   "source": [
    "def get_secret_value(name):\n",
    "    from azure.identity import DefaultAzureCredential\n",
    "    from azure.keyvault.secrets import SecretClient    \n",
    "    credential = DefaultAzureCredential()    \n",
    "    secret_client = SecretClient(vault_url=\"https://jupyter-keyvault.vault.azure.net/\", credential=credential)\n",
    "    service_principal_secret = secret_client.get_secret(name)\n",
    "    return service_principal_secret.value\n",
    "STORAGEACCOUNTKEY=  get_secret_value(\"loganalyticstoblobpoc-secret\")"
   ]
  },
  {
   "cell_type": "code",
   "execution_count": 28,
   "id": "cb1cb361",
   "metadata": {},
   "outputs": [],
   "source": [
    "spark_conf= {\n",
    "    \"spark.kubernetes.namespace\": \"airflow\",\n",
    "    \"spark.kubernetes.authenticate.driver.serviceAccountName\": \"spark-sa\",\n",
    "    \"spark.executor.instances\": \"2\",\n",
    "    \"spark.kubernetes.container.image\": \"ustr-harbor-1.na.uis.unisys.com/service-intelligence/aiops-pyspark:3.1.2.v31\",\n",
    "    \"spark.driver.port\": \"29415\",\n",
    "    \"spark.databricks.service.client.enabled\": \"true\",\n",
    "    \"spark.kubernetes.authenticate.caCertFile\": \"/var/run/secrets/kubernetes.io/serviceaccount/ca.crt\",\n",
    "    \"spark.kubernetes.authenticate.oauthTokenFile\": \"/var/run/secrets/kubernetes.io/serviceaccount/token\",\n",
    "    \"spark.kubernetes.container.image.pullSecrets\": \"service-intel-harbor\",\n",
    "    \"spark.kubernetes.container.image.pullPolicy\": \"Always\",\n",
    "    \"fs.azure.account.key.loganalyticstoblobpoc.blob.core.windows.net\": STORAGEACCOUNTKEY,\n",
    "     #\"spark.driver.maxResultSize\": \"1G\",\n",
    "    \"spark.executor.memory\": \"6G\",\n",
    "    \"spark.executor.cores\": \"2\",\n",
    "    \"spark.driver.memory\": \"4G\",\n",
    "    \"spark.shuffle.memoryFraction\": \"0\",\n",
    "    \"spark.reducer.maxReqsInFlight\": \"1\",\n",
    "    \"spark.shuffle.io.retryWait\":\"60s\",\n",
    "    \"spark.shuffle.io.maxRetries\":\"10\",\n",
    "    \"spark.network.timeout\": \"800\",\n",
    "    \"spark.kubernetes.memoryOverheadFactor\": \"0.5\",\n",
    "    \"spark.memory.fraction\": \"0.2\",\n",
    "    \"spark.sql.debug.maxToStringFields\": 3000,\n",
    "    \"spark.kubernetes.executor.request.cores\": \"800m\",\n",
    "    \"spark.kubernetes.executor.limit.cores\": \"1000m\"\n",
    "    #\"spark.kubernetes.executor.volumes.persistentVolumeClaim.aiops-spark-pvc.mount.path\": \"/home/jovyan/work/\"\n",
    "    #\"spark.sql.objectHashAggregate.sortBased.fallbackThreshold\"\n",
    "}"
   ]
  },
  {
   "cell_type": "code",
   "execution_count": 2,
   "id": "7bda095c",
   "metadata": {},
   "outputs": [
    {
     "name": "stdout",
     "output_type": "stream",
     "text": [
      "no spark\n"
     ]
    }
   ],
   "source": []
  }
 ],
 "metadata": {
  "kernelspec": {
   "display_name": "Python 3",
   "language": "python",
   "name": "python3"
  },
  "language_info": {
   "codemirror_mode": {
    "name": "ipython",
    "version": 3
   },
   "file_extension": ".py",
   "mimetype": "text/x-python",
   "name": "python",
   "nbconvert_exporter": "python",
   "pygments_lexer": "ipython3",
   "version": "3.8.3"
  }
 },
 "nbformat": 4,
 "nbformat_minor": 5
}
