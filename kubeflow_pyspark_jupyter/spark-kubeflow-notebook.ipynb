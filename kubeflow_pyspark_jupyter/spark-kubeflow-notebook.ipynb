{
 "cells": [
  {
   "cell_type": "code",
   "execution_count": null,
   "id": "satisfied-chair",
   "metadata": {},
   "outputs": [],
   "source": [
    "import pyspark\n",
    "from pyspark import SparkContext, SparkConf\n",
    "from pyspark.sql import SparkSession\n",
    "import os\n",
    "import findspark"
   ]
  },
  {
   "cell_type": "code",
   "execution_count": 13,
   "id": "developed-issue",
   "metadata": {},
   "outputs": [],
   "source": [
    "NAMESPACE = \"test\"\n",
    "DRIVER_HOST = \"aiops-notebook-v2-0\"\n",
    "DRIVER_PORT = \"29414\"\n",
    "DRIVER_SERVICE_ACCOUNT= \"default-editor\"\n",
    "DRIVER_SPARK_HOME = \"/usr/local/spark\"\n",
    "findspark.init(DRIVER_SPARK_HOME)\n",
    "# Set executor python spark environments\n",
    "os.environ['PYSPARK_PYTHON'] = '/usr/bin/python3.8'"
   ]
  },
  {
   "cell_type": "code",
   "execution_count": 14,
   "id": "studied-parallel",
   "metadata": {},
   "outputs": [
    {
     "data": {
      "text/plain": [
       "<pyspark.conf.SparkConf at 0x7f416ce291f0>"
      ]
     },
     "execution_count": 14,
     "metadata": {},
     "output_type": "execute_result"
    }
   ],
   "source": [
    "conf1 = SparkConf().setAppName('sparktest').setMaster('k8s://https://kubernetes.default.svc.cluster.local:443')\n",
    "conf1.set(\"spark.kubernetes.namespace\", NAMESPACE)\n",
    "conf1.set(\"spark.kubernetes.authenticate.caCertFile\",\"/var/run/secrets/kubernetes.io/serviceaccount/ca.crt\")\n",
    "conf1.set(\"spark.kubernetes.authenticate.oauthTokenFile\",\"/var/run/secrets/kubernetes.io/serviceaccount/token\")\n",
    "conf1.set(\"spark.kubernetes.authenticate.driver.serviceAccountName\",DRIVER_SERVICE_ACCOUNT)\n",
    "conf1.set(\"spark.executor.instances\",\"2\")\n",
    "conf1.set(\"spark.kubernetes.container.image\",\"docker.io/anantpukale/spark:3.1.1-with-pyspark-hadoop3.2-test2\")\n",
    "conf1.set(\"spark.driver.host\", DRIVER_HOST+\".\"+NAMESPACE+\".svc.cluster.local\")\n",
    "conf1.set(\"spark.driver.port\",DRIVER_PORT)"
   ]
  },
  {
   "cell_type": "code",
   "execution_count": 15,
   "id": "dirty-first",
   "metadata": {},
   "outputs": [],
   "source": [
    "sc = SparkContext(conf=conf1)"
   ]
  },
  {
   "cell_type": "code",
   "execution_count": 16,
   "id": "possible-international",
   "metadata": {},
   "outputs": [
    {
     "data": {
      "text/plain": [
       "15"
      ]
     },
     "execution_count": 16,
     "metadata": {},
     "output_type": "execute_result"
    }
   ],
   "source": [
    "data = [1, 2, 3, 4, 5]\n",
    "distData = sc.parallelize(data)\n",
    "distData.sum()"
   ]
  },
  {
   "cell_type": "code",
   "execution_count": 17,
   "id": "needed-cemetery",
   "metadata": {},
   "outputs": [],
   "source": [
    "sc.stop()"
   ]
  },
  {
   "cell_type": "code",
   "execution_count": null,
   "id": "worse-archive",
   "metadata": {},
   "outputs": [],
   "source": []
  }
 ],
 "metadata": {
  "kernelspec": {
   "display_name": "Python 3",
   "language": "python",
   "name": "python3"
  },
  "language_info": {
   "codemirror_mode": {
    "name": "ipython",
    "version": 3
   },
   "file_extension": ".py",
   "mimetype": "text/x-python",
   "name": "python",
   "nbconvert_exporter": "python",
   "pygments_lexer": "ipython3",
   "version": "3.8.8"
  }
 },
 "nbformat": 4,
 "nbformat_minor": 5
}
